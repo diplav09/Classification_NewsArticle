{
 "cells": [
  {
   "cell_type": "code",
   "execution_count": 1,
   "metadata": {},
   "outputs": [],
   "source": [
    "import pandas as pd\n",
    "import numpy as np\n",
    "import matplotlib.pyplot as plt\n",
    "import random\n",
    "import re\n",
    "import nltk\n",
    "import contractions\n",
    "from sklearn.model_selection import train_test_split\n",
    "from sklearn.feature_extraction.text import CountVectorizer\n",
    "from sklearn.feature_extraction.text import TfidfTransformer\n",
    "from nltk.stem import WordNetLemmatizer\n",
    "from nltk.stem import PorterStemmer\n",
    "from nltk.corpus import wordnet\n",
    "from nltk.corpus import stopwords\n",
    "from sklearn.pipeline import Pipeline\n",
    "from sklearn.decomposition import TruncatedSVD\n",
    "\n",
    "from sklearn.decomposition import NMF\n",
    "from sklearn import svm\n",
    "from sklearn import datasets, metrics\n",
    "from sklearn.model_selection import KFold\n",
    "from sklearn.linear_model import LogisticRegression\n",
    "from sklearn.naive_bayes import GaussianNB\n",
    "from sklearn.model_selection import GridSearchCV\n",
    "\n",
    "from sklearn.metrics import plot_confusion_matrix, f1_score, accuracy_score, precision_score, recall_score, confusion_matrix\n",
    "from sklearn.multiclass import OneVsRestClassifier\n",
    "from sklearn.multiclass import OneVsOneClassifier\n"
   ]
  },
  {
   "cell_type": "code",
   "execution_count": 2,
   "metadata": {
    "id": "qhPHSbER-Le6"
   },
   "outputs": [],
   "source": [
    "fname = 'Project1-Classification.csv'\n",
    "df = pd.read_csv (fname)"
   ]
  },
  {
   "cell_type": "markdown",
   "metadata": {
    "id": "PypbcLzvLdVU"
   },
   "source": [
    "**EDA**"
   ]
  },
  {
   "cell_type": "code",
   "execution_count": 3,
   "metadata": {
    "colab": {
     "base_uri": "https://localhost:8080/",
     "height": 424
    },
    "id": "RImSVPr7-ghB",
    "outputId": "d67151f5-e1c3-4e9b-b70b-7c6474522bdc"
   },
   "outputs": [
    {
     "data": {
      "text/html": [
       "<div>\n",
       "<style scoped>\n",
       "    .dataframe tbody tr th:only-of-type {\n",
       "        vertical-align: middle;\n",
       "    }\n",
       "\n",
       "    .dataframe tbody tr th {\n",
       "        vertical-align: top;\n",
       "    }\n",
       "\n",
       "    .dataframe thead th {\n",
       "        text-align: right;\n",
       "    }\n",
       "</style>\n",
       "<table border=\"1\" class=\"dataframe\">\n",
       "  <thead>\n",
       "    <tr style=\"text-align: right;\">\n",
       "      <th></th>\n",
       "      <th>full_text</th>\n",
       "      <th>summary</th>\n",
       "      <th>keywords</th>\n",
       "      <th>publish_date</th>\n",
       "      <th>authors</th>\n",
       "      <th>url</th>\n",
       "      <th>leaf_label</th>\n",
       "      <th>root_label</th>\n",
       "    </tr>\n",
       "  </thead>\n",
       "  <tbody>\n",
       "    <tr>\n",
       "      <th>0</th>\n",
       "      <td>'Pure Hockey, the largest hockey retailer in t...</td>\n",
       "      <td>'Pure Hockey, the largest hockey retailer in t...</td>\n",
       "      <td>['acquire', 'agrees', 'nevada', 'retail', 'hoc...</td>\n",
       "      <td>2022-10-21 17:11:22+00:00</td>\n",
       "      <td>['Ein News']</td>\n",
       "      <td>https://www.einnews.com/pr_news/597148062/pure...</td>\n",
       "      <td>hockey</td>\n",
       "      <td>sports</td>\n",
       "    </tr>\n",
       "    <tr>\n",
       "      <th>1</th>\n",
       "      <td>'HKO Hockey Canada Sponsorship 20221006\\n\\nHoc...</td>\n",
       "      <td>'The tally of Hockey Canada’s sponsorship loss...</td>\n",
       "      <td>['sexual', 'exclusive', 'settlement', 'million...</td>\n",
       "      <td>NaN</td>\n",
       "      <td>['Barbara Shecter']</td>\n",
       "      <td>https://ca.finance.yahoo.com/news/exclusive-ho...</td>\n",
       "      <td>hockey</td>\n",
       "      <td>sports</td>\n",
       "    </tr>\n",
       "    <tr>\n",
       "      <th>2</th>\n",
       "      <td>'Canadian Prime Minister Justin Trudeau said W...</td>\n",
       "      <td>'Canadian Prime Minister Justin Trudeau said W...</td>\n",
       "      <td>['québec', 'surprise', 'trust', 'sexual', 'org...</td>\n",
       "      <td>2022-10-05 00:00:00</td>\n",
       "      <td>['The Athletic Staff']</td>\n",
       "      <td>https://theathletic.com/3659888/2022/10/05/hoc...</td>\n",
       "      <td>hockey</td>\n",
       "      <td>sports</td>\n",
       "    </tr>\n",
       "    <tr>\n",
       "      <th>3</th>\n",
       "      <td>'Hockey Canada paid a crisis communications fi...</td>\n",
       "      <td>'Nicholson says that Hockey Canada did not go ...</td>\n",
       "      <td>['sexual', 'organization', 'million', 'ceo', '...</td>\n",
       "      <td>2022-11-15 00:00:00</td>\n",
       "      <td>['Dan Robson']</td>\n",
       "      <td>https://theathletic.com/3900630/2022/11/15/hoc...</td>\n",
       "      <td>hockey</td>\n",
       "      <td>sports</td>\n",
       "    </tr>\n",
       "    <tr>\n",
       "      <th>4</th>\n",
       "      <td>'The Denver Broncos are looking for a new head...</td>\n",
       "      <td>'The Denver Broncos are looking for a new head...</td>\n",
       "      <td>['beats', 'force', 'season', 'teams', 'anchora...</td>\n",
       "      <td>NaN</td>\n",
       "      <td>['Parker Seibold', 'The Gazette', 'Gazette File']</td>\n",
       "      <td>https://gazette.com/multimedia/photo-air-force...</td>\n",
       "      <td>hockey</td>\n",
       "      <td>sports</td>\n",
       "    </tr>\n",
       "  </tbody>\n",
       "</table>\n",
       "</div>"
      ],
      "text/plain": [
       "                                           full_text  \\\n",
       "0  'Pure Hockey, the largest hockey retailer in t...   \n",
       "1  'HKO Hockey Canada Sponsorship 20221006\\n\\nHoc...   \n",
       "2  'Canadian Prime Minister Justin Trudeau said W...   \n",
       "3  'Hockey Canada paid a crisis communications fi...   \n",
       "4  'The Denver Broncos are looking for a new head...   \n",
       "\n",
       "                                             summary  \\\n",
       "0  'Pure Hockey, the largest hockey retailer in t...   \n",
       "1  'The tally of Hockey Canada’s sponsorship loss...   \n",
       "2  'Canadian Prime Minister Justin Trudeau said W...   \n",
       "3  'Nicholson says that Hockey Canada did not go ...   \n",
       "4  'The Denver Broncos are looking for a new head...   \n",
       "\n",
       "                                            keywords  \\\n",
       "0  ['acquire', 'agrees', 'nevada', 'retail', 'hoc...   \n",
       "1  ['sexual', 'exclusive', 'settlement', 'million...   \n",
       "2  ['québec', 'surprise', 'trust', 'sexual', 'org...   \n",
       "3  ['sexual', 'organization', 'million', 'ceo', '...   \n",
       "4  ['beats', 'force', 'season', 'teams', 'anchora...   \n",
       "\n",
       "                publish_date  \\\n",
       "0  2022-10-21 17:11:22+00:00   \n",
       "1                        NaN   \n",
       "2        2022-10-05 00:00:00   \n",
       "3        2022-11-15 00:00:00   \n",
       "4                        NaN   \n",
       "\n",
       "                                             authors  \\\n",
       "0                                       ['Ein News']   \n",
       "1                                ['Barbara Shecter']   \n",
       "2                             ['The Athletic Staff']   \n",
       "3                                     ['Dan Robson']   \n",
       "4  ['Parker Seibold', 'The Gazette', 'Gazette File']   \n",
       "\n",
       "                                                 url leaf_label root_label  \n",
       "0  https://www.einnews.com/pr_news/597148062/pure...     hockey     sports  \n",
       "1  https://ca.finance.yahoo.com/news/exclusive-ho...     hockey     sports  \n",
       "2  https://theathletic.com/3659888/2022/10/05/hoc...     hockey     sports  \n",
       "3  https://theathletic.com/3900630/2022/11/15/hoc...     hockey     sports  \n",
       "4  https://gazette.com/multimedia/photo-air-force...     hockey     sports  "
      ]
     },
     "execution_count": 3,
     "metadata": {},
     "output_type": "execute_result"
    }
   ],
   "source": [
    "df.head(5)"
   ]
  },
  {
   "cell_type": "code",
   "execution_count": 4,
   "metadata": {
    "colab": {
     "base_uri": "https://localhost:8080/"
    },
    "id": "tro1gZ9u-4J3",
    "outputId": "29350175-96f0-402e-c530-62336277d9b4"
   },
   "outputs": [
    {
     "name": "stdout",
     "output_type": "stream",
     "text": [
      "# article with root label == sports = 1750\n",
      "# article with root label == climate = 1400\n",
      "# total article =  3150\n",
      "Row samples: 3150, features: 8, \n",
      "\n"
     ]
    }
   ],
   "source": [
    "num_sports_article = len(df.loc[df.root_label == 'sports'])\n",
    "print(\"# article with root label == sports =\", num_sports_article)\n",
    "num_climate_article = len(df.loc[df.root_label == 'climate'])\n",
    "print(\"# article with root label == climate =\", num_climate_article)\n",
    "print(\"# total article = \",len(df))\n",
    "print(\"Row samples: {}, features: {}, \\n\".format(df.shape[0], df.shape[1]))"
   ]
  },
  {
   "cell_type": "code",
   "execution_count": 5,
   "metadata": {
    "id": "OS5jZNq3MQog"
   },
   "outputs": [],
   "source": [
    "FT = df.full_text"
   ]
  },
  {
   "cell_type": "code",
   "execution_count": 6,
   "metadata": {
    "colab": {
     "base_uri": "https://localhost:8080/"
    },
    "id": "w9PgNHGCa768",
    "outputId": "7d83e3a8-a149-45ad-cd9a-40ca5401dcd6"
   },
   "outputs": [
    {
     "data": {
      "text/plain": [
       "0    'Pure Hockey, the largest hockey retailer in t...\n",
       "1    'HKO Hockey Canada Sponsorship 20221006\\n\\nHoc...\n",
       "2    'Canadian Prime Minister Justin Trudeau said W...\n",
       "3    'Hockey Canada paid a crisis communications fi...\n",
       "4    'The Denver Broncos are looking for a new head...\n",
       "Name: full_text, dtype: object"
      ]
     },
     "execution_count": 6,
     "metadata": {},
     "output_type": "execute_result"
    }
   ],
   "source": [
    "FT.head()"
   ]
  },
  {
   "cell_type": "code",
   "execution_count": 7,
   "metadata": {
    "id": "G1oyfzrLpwFW"
   },
   "outputs": [],
   "source": [
    "import re\n",
    "import matplotlib.pyplot as plt\n",
    "import numpy as np"
   ]
  },
  {
   "cell_type": "code",
   "execution_count": 8,
   "metadata": {
    "colab": {
     "base_uri": "https://localhost:8080/",
     "height": 1000
    },
    "id": "3ABM8UiTa97q",
    "outputId": "8e661d9c-1417-4ae0-ded1-a47af7078236"
   },
   "outputs": [
    {
     "data": {
      "text/plain": [
       "Text(0, 0.5, 'Frequency of each root label')"
      ]
     },
     "execution_count": 8,
     "metadata": {},
     "output_type": "execute_result"
    },
    {
     "data": {
      "text/plain": [
       "<Figure size 432x288 with 0 Axes>"
      ]
     },
     "metadata": {},
     "output_type": "display_data"
    },
    {
     "data": {
      "image/png": "[encoded data removed]",
      "text/plain": [
       "<Figure size 576x576 with 1 Axes>"
      ]
     },
     "metadata": {
      "needs_background": "light"
     },
     "output_type": "display_data"
    },
    {
     "data": {
      "image/png": "[encoded data removed]",
      "text/plain": [
       "<Figure size 432x288 with 1 Axes>"
      ]
     },
     "metadata": {
      "needs_background": "light"
     },
     "output_type": "display_data"
    },
    {
     "data": {
      "image/png": "[encoded data removed]",
      "text/plain": [
       "<Figure size 432x288 with 1 Axes>"
      ]
     },
     "metadata": {
      "needs_background": "light"
     },
     "output_type": "display_data"
    }
   ],
   "source": [
    "plt.figure()\n",
    "pd.DataFrame(df['full_text'].apply(lambda x: len(x))).hist(bins=100, figsize= (8, 8))\n",
    "plt.xlabel(\"Characters in Full-text\")\n",
    "plt.ylabel(\"Frequency\")\n",
    "\n",
    "\n",
    "plt.figure()\n",
    "df['leaf_label'].hist(xrot=90)\n",
    "plt.xlabel(\"Leaf Labels\")\n",
    "plt.ylabel(\"Frequency of each leaf label\")\n",
    "\n",
    "\n",
    "plt.figure()\n",
    "df['root_label'].hist()\n",
    "plt.xlabel(\"Root Labels\")\n",
    "plt.ylabel(\"Frequency of each root label\")"
   ]
  },
  {
   "cell_type": "markdown",
   "metadata": {
    "id": "fgeTW5CiPNm4"
   },
   "source": [
    "### Q1\n",
    "a) Row samples: 3150, features: 8 <br>\n",
    "b) All the graph are plotted in the above cell <br>\n",
    "c)\n",
    " \n",
    "\n",
    "1.   Graph1 : frequency vs charracter in full text . Some of the character have quite high frequency while some have very low frequency. The distribution in general follows gaussian distribution.\n",
    "2.   Graph2 : No. of articles vs Leaf labels . we see that sample are evenly distributed into leaf labels with each category having around 350 samples.\n",
    "3. Graph3 : No. of articles vs Root labels. we see that sample are not evenly distributed in root label and sports category have higher frequency than climate one.\n",
    "\n"
   ]
  },
  {
   "cell_type": "markdown",
   "metadata": {
    "id": "gjJrA-VOyiHu"
   },
   "source": [
    "# Binary Classification"
   ]
  },
  {
   "cell_type": "code",
   "execution_count": 9,
   "metadata": {
    "id": "J5SKdNDWrmo5"
   },
   "outputs": [],
   "source": [
    "import numpy as np\n",
    "import random\n",
    "np.random.seed(42)\n",
    "random.seed(42)"
   ]
  },
  {
   "cell_type": "markdown",
   "metadata": {
    "id": "pomVZBh4_YK-"
   },
   "source": [
    "### train test split"
   ]
  },
  {
   "cell_type": "code",
   "execution_count": 10,
   "metadata": {
    "id": "TXaV03VsyrfA"
   },
   "outputs": [],
   "source": [
    "from sklearn.model_selection import train_test_split\n",
    "train, test = train_test_split(df[[\"full_text\",\"root_label\"]], test_size=0.2)"
   ]
  },
  {
   "cell_type": "code",
   "execution_count": 11,
   "metadata": {
    "colab": {
     "base_uri": "https://localhost:8080/"
    },
    "id": "nztngY9ZzCn6",
    "outputId": "2d35b9ab-5962-4a22-b45e-90382b6ee0ec"
   },
   "outputs": [
    {
     "name": "stdout",
     "output_type": "stream",
     "text": [
      "train set size  =  2520\n",
      "test set size  =  630\n"
     ]
    }
   ],
   "source": [
    "print(\"train set size  = \",len(train))\n",
    "print(\"test set size  = \",len(test))"
   ]
  },
  {
   "cell_type": "markdown",
   "metadata": {
    "id": "e-sBskVeSjll"
   },
   "source": [
    "### Q2 \n",
    "**Training dataset size**: 2520\n",
    "\n",
    "**Test dataset size**: 630"
   ]
  },
  {
   "cell_type": "markdown",
   "metadata": {
    "id": "PfTwK0n-Gxeg"
   },
   "source": [
    "### Define Stopwords"
   ]
  },
  {
   "cell_type": "code",
   "execution_count": 12,
   "metadata": {
    "colab": {
     "base_uri": "https://localhost:8080/"
    },
    "id": "FGWOXIsyGwri",
    "outputId": "fffdecd9-e96a-466f-883b-37b9ecfd1ee2"
   },
   "outputs": [],
   "source": [
    "# To clean HTML text\n",
    "\n",
    "\"\"\"\n",
    "- HTML artifacts removal\n",
    "- Links removal\n",
    "- quotes removal\n",
    "- Special characters removal\n",
    "- Extra spaces removal\n",
    "- Changing the short forms to full forms using contractions\n",
    "- Punctuations removal\n",
    "- Changing all text to lower case\n",
    "\"\"\"\n",
    "\n",
    "def clean(text):\n",
    "    text = re.sub(r'^https?:\\/\\/.*[\\r\\n]*', '', text, flags=re.MULTILINE)\n",
    "    texter = re.sub(r\"<br />\", \" \", text)\n",
    "    texter = re.sub(r'http\\S+', '', text)\n",
    "    texter = re.sub(r\"&quot;\", \"\\\"\",texter)\n",
    "    texter = re.sub('&#39;', \"\\\"\", texter)\n",
    "    texter = re.sub('\\n', \" \", texter)\n",
    "    texter = re.sub(' u ',\" you \", texter)\n",
    "    texter = re.sub('`',\"\", texter)\n",
    "    texter = re.sub(' +', ' ', texter)\n",
    "    texter = re.sub(r\"(!)\\1+\", r\"!\", texter)\n",
    "    texter = re.sub(r\"(\\?)\\1+\", r\"?\", texter)\n",
    "    texter = re.sub('&amp;', 'and', texter)\n",
    "    texter = re.sub('\\r', ' ',texter)\n",
    "    clean = re.compile('<.*?>')\n",
    "    texter = texter.encode('ascii', 'ignore').decode('ascii')\n",
    "    texter = re.sub(clean, '', texter)\n",
    "    texter = texter.strip()\n",
    "    texter = contractions.fix(texter)\n",
    "    texter = re.sub('''[!\"#$%&'()*+,/;:-<=>?@[\\]^_`{|}~-]''', '', texter)\n",
    "    texter = texter.lower()\n",
    "    texter = re.sub(' +', ' ', texter)\n",
    "    if texter == \"\":\n",
    "        texter = \"\"\n",
    "    return texter"
   ]
  },
  {
   "cell_type": "markdown",
   "metadata": {
    "id": "a9rzI9vd_dVz"
   },
   "source": [
    "### Feature Extraction"
   ]
  },
  {
   "cell_type": "code",
   "execution_count": 13,
   "metadata": {
    "id": "kYNHYz25KYtf"
   },
   "outputs": [],
   "source": [
    "# Function to get POS Tag\n",
    "def get_pos_tags(nltkTag):\n",
    "    firstChar = nltkTag[0]\n",
    "    if firstChar == 'J':\n",
    "        return wordnet.ADJ\n",
    "    if firstChar == 'S':\n",
    "        return wordnet.ADJ_SAT\n",
    "    if firstChar == 'V':\n",
    "        return wordnet.VERB\n",
    "    if firstChar == 'N':\n",
    "        return wordnet.NOUN\n",
    "    if firstChar == 'R':\n",
    "        return wordnet.ADV\n",
    "    return wordnet.NOUN\n"
   ]
  },
  {
   "cell_type": "code",
   "execution_count": 14,
   "metadata": {},
   "outputs": [],
   "source": [
    "# Function to lemmatize each sentence, along with stripping extra spaces, full stops and numbers.\n",
    "def lemmatize(text):\n",
    "    tokens = nltk.word_tokenize(text)\n",
    "    posTags = nltk.pos_tag(tokens)\n",
    "    tags = [get_pos_tags(w[1]) for w in posTags]\n",
    "    lemmas = [lemmatizer.lemmatize(tokens[i], tags[i]) for i in range(0, len(tokens))]\n",
    "    lemmas = ' '.join(lemmas)\n",
    "    lemmas = re.sub(r'\\w*\\d\\w*', '', lemmas)\n",
    "    lemmas = re.sub('[.]', '', lemmas)\n",
    "    lemmas = re.sub(' +', ' ', lemmas).strip()\n",
    "    return lemmas"
   ]
  },
  {
   "cell_type": "code",
   "execution_count": 15,
   "metadata": {},
   "outputs": [],
   "source": [
    "#  Function to stem the sentence along with stripping extra spaces, full stops and numbers.\n",
    "def stemmer(text):\n",
    "    tokens = nltk.word_tokenize(text)\n",
    "    stems = [ps.stem(tokens[i]) for i in range(0, len(tokens))]\n",
    "    stems = ' '.join(stems)\n",
    "    stems = re.sub(r'\\w*\\d\\w*', '', stems)\n",
    "    stems = re.sub('[.]', '', stems)\n",
    "    stems = re.sub(' +', ' ', stems).strip()\n",
    "    return stems"
   ]
  },
  {
   "cell_type": "code",
   "execution_count": 16,
   "metadata": {
    "id": "AX534uCSzZ4e"
   },
   "outputs": [],
   "source": [
    "# Whole preprocessing pipeline with lemmatization\n",
    "def preprocess(sample):\n",
    "    sample = clean(sample)\n",
    "    sample = sample.split('.')\n",
    "    sample = [lemmatize(sentence) for sentence in sample]\n",
    "    sample = '.'.join(sample)\n",
    "    return sample"
   ]
  },
  {
   "cell_type": "code",
   "execution_count": 17,
   "metadata": {
    "id": "KSNYigrUDQ2Q"
   },
   "outputs": [],
   "source": [
    "# Whole preprocessing pipeling with stemming\n",
    "def preprocessStem(sample):\n",
    "    sample = clean(sample)\n",
    "    sample = sample.split('.')\n",
    "    sample = [stemmer(sentence) for sentence in sample]\n",
    "    sample = '.'.join(sample)\n",
    "    return sample\n",
    "\n",
    "# Preprocessing pipeline with cleaning but without any compression\n",
    "def preprocessNoCompress(sample):\n",
    "    sample = clean(sample)\n",
    "    return sample\n",
    "\n",
    "\n",
    "# Preprocessing with lemmatization but no cleaning\n",
    "def preprocessNC(sample):\n",
    "    sample = sample.split('.')\n",
    "    sample = [lemmatize(sentence) for sentence in sample]\n",
    "    sample = '.'.join(sample)\n",
    "    return sample\n",
    "\n",
    "# Preprocessing with stemming but no cleaning\n",
    "def preprocessStemNC(sample):\n",
    "    sample = sample.split('.')\n",
    "    sample = [stemmer(sentence) for sentence in sample]\n",
    "    sample = '.'.join(sample)\n",
    "    return sample\n",
    "\n",
    "# Preprocessing without any compression or cleaning\n",
    "def preprocessNoCompressNC(sample):\n",
    "    return sample"
   ]
  },
  {
   "cell_type": "code",
   "execution_count": 18,
   "metadata": {},
   "outputs": [],
   "source": [
    "# Initializations\n",
    "lemmatizer = WordNetLemmatizer()\n",
    "ps = PorterStemmer()\n",
    "\n",
    "stopWords = set(stopwords.words('English'))"
   ]
  },
  {
   "cell_type": "markdown",
   "metadata": {
    "id": "ZQs2TmD1SVeh"
   },
   "source": [
    "### Pipeline for count vector and Tf-idf"
   ]
  },
  {
   "cell_type": "code",
   "execution_count": 19,
   "metadata": {
    "id": "W8YqPXRiQS-6"
   },
   "outputs": [
    {
     "name": "stderr",
     "output_type": "stream",
     "text": [
      "/Users/diplavsrivastava/opt/anaconda3/lib/python3.8/site-packages/sklearn/feature_extraction/text.py:388: UserWarning: Your stop_words may be inconsistent with your preprocessing. Tokenizing the stop words generated tokens ['far', 'make'] not in stop_words.\n",
      "  warnings.warn('Your stop_words may be inconsistent with '\n"
     ]
    }
   ],
   "source": [
    "# Feature Extraction using CountVectorizer and TF-IDF transformation using Pipeline.\n",
    "featurePipeline = Pipeline([\n",
    "    ('count', CountVectorizer(preprocessor=preprocess, stop_words='english', min_df=3)),\n",
    "    ('tfidf', TfidfTransformer(smooth_idf=True, use_idf=True))\n",
    "]).fit(train['full_text'])"
   ]
  },
  {
   "cell_type": "code",
   "execution_count": 20,
   "metadata": {
    "id": "uO0sEvczR5K8"
   },
   "outputs": [
    {
     "name": "stdout",
     "output_type": "stream",
     "text": [
      " Training data TF-IDF Matrix size: (2520, 14060)\n",
      "Testing data TF-IDF Matrix size: (630, 14060)\n"
     ]
    }
   ],
   "source": [
    "#  TF-IDF processed train and test matrices.\n",
    "train_tfidf = featurePipeline.transform(train['full_text'])\n",
    "test_tfidf = featurePipeline.transform(test['full_text'])\n",
    "\n",
    "print(\" Training data TF-IDF Matrix size: {}\".format(train_tfidf.shape))\n",
    "print(\"Testing data TF-IDF Matrix size: {}\".format(test_tfidf.shape))"
   ]
  },
  {
   "cell_type": "markdown",
   "metadata": {
    "id": "wQO8nPM6VJfl"
   },
   "source": [
    "### Q3\n",
    "a). Pros of Lemmatization:\n",
    "\n",
    "* Lemmatization tries to incorporate the contextual information of the word. \n",
    "\n",
    "* The word's lemma can change depending on the context, which is highly helpful if differentiating in the context of two sentences using the same words.\n",
    "\n",
    "* Lemmatization can capture the semantic meaning of words in which it is used in a sentence.\n",
    "\n",
    "Cons of Lemmatization:\n",
    "\n",
    "* Lemmatization requires a large corpus size to get the lemma of a word as it anlyzes the form and context inwhich it is used. Stemming merely uses the word and attempts to identify its stem by trimming from the front or back of the word in accordance with language-based rules.\n",
    "* The runtime of lemmatization is slower compared to stemming.\n",
    "\n",
    "b). On increasing min_df(minimum document frequency) the tf-idf size also reduces as generally not all the word ppresent equally likely in the corpus, so the word which frequency lower than min_df are dropped as a result of which representation vector for each sample also reduces.\n",
    "\n",
    "c). It is recommended to remove stopword before lemmatization, As lematization might change the stopword and change word might not be present in the list of stopwrods being removed, thus being present in the corpus although it doesn't make any sense. However if we are using word2vec, GLoVE or any Neural Network based lemmatizer which take entire sentence as input to generate vector representation of a word, removal of stopwords can make a difference in the way these embeddings occupy the vector space since stopwords do contribute to some context and semantic meaning to the whole sentence. <br>\n",
    "It is recommended to remove punctuation in the starting as lemmatizer uses words as input and punctutations don't fall into a word category so they are quite useless. <br>\n",
    "Numbers can be removed before or after lemmatizing since they are just numerals and dont really have a lemma\n",
    "\n",
    "d). Training data TF-IDF Matrix size: (2520, 14060) Testing data TF-IDF Matrix size: (630, 14060)\n",
    "\n",
    "    No. of columns: (k * 10^3) where k ~ 14.1\n"
   ]
  },
  {
   "cell_type": "markdown",
   "metadata": {
    "id": "WnInXwBMccxX"
   },
   "source": [
    "### Dimensionality Reduction"
   ]
  },
  {
   "cell_type": "code",
   "execution_count": 21,
   "metadata": {
    "colab": {
     "base_uri": "https://localhost:8080/"
    },
    "id": "WcOYJk9gWNB6",
    "outputId": "e38fa452-caa1-4361-82fd-d2cab9cce855"
   },
   "outputs": [],
   "source": [
    "\"\"\"\n",
    "Functions to get the trained SVD and NMF model\n",
    "\"\"\"\n",
    "\n",
    "def getSVD(n_comp, data):\n",
    "    SVD = TruncatedSVD(n_components=n_comp, random_state=42)\n",
    "    SVD.fit(data)\n",
    "    return SVD\n",
    "\n",
    "# NMF Non-negative Matrix Factorization\n",
    "def getNMF(n_comp, data):\n",
    "    NMFmodel = NMF(n_components=n_comp, init='random', random_state=42)\n",
    "    NMFmodel.fit(data)\n",
    "    return NMFmodel"
   ]
  },
  {
   "cell_type": "code",
   "execution_count": 22,
   "metadata": {
    "colab": {
     "base_uri": "https://localhost:8080/"
    },
    "id": "1dMDcLi6c2FS",
    "outputId": "3c7cee98-f6fe-4638-ba4c-109984de49ce"
   },
   "outputs": [
    {
     "data": {
      "image/png": "[encoded data removed]",
      "text/plain": [
       "<Figure size 432x288 with 1 Axes>"
      ]
     },
     "metadata": {
      "needs_background": "light"
     },
     "output_type": "display_data"
    }
   ],
   "source": [
    "# Plotting variance graph\n",
    "k_values = [1, 10, 50, 100, 200, 500, 1000, 2000]\n",
    "variance_ratio = []\n",
    "reconstructionErrors = []\n",
    "\n",
    "for i in range(0, len(k_values)):\n",
    "    SVD = getSVD(k_values[i], train_tfidf)\n",
    "    variance_ratio.append(SVD.explained_variance_ratio_.sum())\n",
    "    transformed = SVD.transform(train_tfidf)\n",
    "    reconstruct = SVD.inverse_transform(transformed)\n",
    "    reconstructionErrors.append(np.linalg.norm((train_tfidf.toarray() - reconstruct), 'fro') ** 2)\n",
    "    \n",
    "plt.plot(k_values, variance_ratio)\n",
    "plt.xlabel(\"K values\")\n",
    "plt.ylabel(\"Variance percentage\")\n",
    "plt.title(\"Variance ratio curve #LSI\")\n",
    "plt.show()"
   ]
  },
  {
   "cell_type": "code",
   "execution_count": 23,
   "metadata": {
    "id": "g_r4BAzydGMZ"
   },
   "outputs": [],
   "source": [
    "k = 50\n",
    "NMFdecomp = getNMF(k, train_tfidf)"
   ]
  },
  {
   "cell_type": "code",
   "execution_count": 24,
   "metadata": {
    "id": "XmW_6rwxHgaN"
   },
   "outputs": [
    {
     "name": "stdout",
     "output_type": "stream",
     "text": [
      "Reconstruction residual MSE error for LSI:: 1676.2833351717513\n",
      "Reconstruction residual MSE error for NMF:: 1700.1396788381137\n"
     ]
    }
   ],
   "source": [
    "# Reconstruction Errors\n",
    "reconstructedLSIError = reconstructionErrors[2]\n",
    "reconstructedNMFError = (NMFdecomp.reconstruction_err_)**2\n",
    "\n",
    "print(\"Reconstruction residual MSE error for LSI:: {}\".format(reconstructedLSIError))\n",
    "print(\"Reconstruction residual MSE error for NMF:: {}\".format(reconstructedNMFError))"
   ]
  },
  {
   "cell_type": "markdown",
   "metadata": {},
   "source": [
    "### Q4\n",
    "a). The variance ratio plot for LSI resembles a transitory curve that grows exponentially before saturating.This curve is concave. The concavity of the plot shows that projections along the initial singular vectors, which correspond to the biggest eigenvalues, capture the majority of the variance and that the rest of the data contains more noise and less useful information.\n",
    "\n",
    "b).\n",
    "Reconstruction residual MSE error for LSI =  1676.2833351717513 <br>\n",
    "Reconstruction residual MSE error for NMF = 1700.1396788381137  <br>\n",
    "Reconstruction residual MSE error for LSI is smaller compared to that from NMF. <br>\n",
    "\n",
    "NMF tries to identify the key elements that accurately depict the data. As NMF is generally not attempting to reconstruct the original data but rather to identify key features that may be combined to obtain the entire dataset, it is understandable that the reconstruction error for NMF is a bit higher.\n",
    "\n",
    "For LSI, it works on projecting data to eigen vectors which capture most variance i.e they try to retain most of the data. So LSI's aim to get back the original data. Therefore LSI better in data reconstruction. "
   ]
  },
  {
   "cell_type": "markdown",
   "metadata": {
    "id": "HnTOMdO6yqVI"
   },
   "source": [
    "# Classification Algorithm"
   ]
  },
  {
   "cell_type": "code",
   "execution_count": 25,
   "metadata": {
    "id": "nDGP3mqRPCgJ"
   },
   "outputs": [],
   "source": [
    "k_feat = 500\n",
    "train_labels = np.array((train['root_label'] == 'climate').astype('int'))\n",
    "test_labels = np.array((test['root_label'] == 'climate').astype('int'))\n",
    "\n",
    "SVDK500 = getSVD(k_feat, train_tfidf)\n",
    "trainDataK500 = SVDK500.transform(train_tfidf)\n",
    "testDataK500 = SVDK500.transform(test_tfidf)"
   ]
  },
  {
   "cell_type": "code",
   "execution_count": 26,
   "metadata": {
    "id": "EzjjT2Mvz3FU"
   },
   "outputs": [],
   "source": [
    "#Hard Linear SVM\n",
    "HardSVMModel = svm.SVC(kernel='linear', C = 1000)\n",
    "HardSVMModel.fit(trainDataK500, train_labels)\n",
    "predictionsHard = HardSVMModel.predict(testDataK500)\n",
    "\n",
    "# Gamma = 100000\n",
    "GammaSVMModel = svm.SVC(kernel='linear', C = 100000)\n",
    "GammaSVMModel.fit(trainDataK500, train_labels)\n",
    "predictionsGamma = GammaSVMModel.predict(testDataK500)\n",
    "\n"
   ]
  },
  {
   "cell_type": "code",
   "execution_count": 27,
   "metadata": {},
   "outputs": [],
   "source": [
    "#Soft Linear SVM\n",
    "SoftSVMModel = svm.SVC(kernel='linear', C = 0.0001)\n",
    "SoftSVMModel.fit(trainDataK500, train_labels)\n",
    "predictionsSoft = SoftSVMModel.predict(testDataK500)"
   ]
  },
  {
   "cell_type": "code",
   "execution_count": 43,
   "metadata": {
    "colab": {
     "base_uri": "https://localhost:8080/",
     "height": 218
    },
    "id": "KdnTHWOO6f5Z",
    "outputId": "40e9adb3-60d1-4630-d81d-1b91cae2989f"
   },
   "outputs": [],
   "source": [
    "def getScores(y_true, y_pred):\n",
    "    y_true = y_true.reshape((-1))\n",
    "    y_pred = y_pred.reshape((-1))\n",
    "#     confusion_matrix = metrics.confusion_matrix(y_true.reshape((-1)), y_pred.reshape((-1)))\n",
    "#     tn, fp, fn, tp = metrics.confusion_matrix(y_true.reshape((-1)), y_pred.reshape((-1))).ravel()\n",
    "    accuracy = accuracy_score(y_true, y_pred)\n",
    "    precision = precision_score(y_true, y_pred, average='weighted', labels=np.unique(y_pred))\n",
    "    recall = recall_score(y_true, y_pred, average='weighted', labels=np.unique(y_pred))\n",
    "    f1 = f1_score(y_true, y_pred, average='weighted', labels=np.unique(y_pred))\n",
    "    \n",
    "    return {\n",
    "        'confusion_matrix': confusion_matrix,\n",
    "        'accuracy': accuracy,\n",
    "        'precision': precision,\n",
    "        'recall': recall,\n",
    "        'f1': f1\n",
    "    }\n",
    "\n",
    "svmScores = {\n",
    "    'HardSMV': {\n",
    "        'climate': {\n",
    "            'scores': getScores(test_labels, predictionsHard)\n",
    "        },\n",
    "        'sports': {\n",
    "            'scores': getScores(1 - test_labels, 1 - predictionsHard)\n",
    "        }\n",
    "    },\n",
    "    'HighGammaSVM': {\n",
    "        'climate': {\n",
    "            'scores': getScores(test_labels, predictionsGamma)\n",
    "        },\n",
    "        'sports': {\n",
    "            'scores': getScores(1 - test_labels, 1 - predictionsHard)\n",
    "        }\n",
    "    },\n",
    "    'SoftSVM': {\n",
    "        'climate': {\n",
    "            'scores': getScores(test_labels, predictionsSoft)\n",
    "        },\n",
    "        'sports': {\n",
    "            'scores': getScores(1 - test_labels, 1 - predictionsHard)\n",
    "        }\n",
    "    }\n",
    "}"
   ]
  },
  {
   "cell_type": "code",
   "execution_count": 44,
   "metadata": {
    "colab": {
     "base_uri": "https://localhost:8080/"
    },
    "id": "WIZN6Sf275_L",
    "outputId": "5024400f-3af7-4510-d21a-6d174c81efb4"
   },
   "outputs": [],
   "source": [
    "# 5-Fold cross validation to find optimal gamma.\n",
    "def avgKFoldError(clf, train, y):\n",
    "    kf = KFold(n_splits=5)\n",
    "    error = 0\n",
    "    for train_idx, test_idx in kf.split(train):\n",
    "        x_train, x_test = train[train_idx], train[test_idx]\n",
    "        y_train, y_test = y[train_idx], y[test_idx]\n",
    "        \n",
    "        clf.fit(x_train, y_train)\n",
    "        predictions = clf.predict(x_test)\n",
    "        error = error + sum(np.abs(predictions - y_test))\n",
    "    \n",
    "    return error / kf.n_splits"
   ]
  },
  {
   "cell_type": "code",
   "execution_count": 45,
   "metadata": {
    "colab": {
     "base_uri": "https://localhost:8080/"
    },
    "id": "cZxefwXZ0i3J",
    "outputId": "f565aeeb-0299-48c1-873e-689956d7fb14"
   },
   "outputs": [],
   "source": [
    "# 5-Fold cross validation to find optimal gamma.\n",
    "def avgKFoldError(clf, train, y):\n",
    "    kf = KFold(n_splits=5)\n",
    "    error = 0\n",
    "    for train_idx, test_idx in kf.split(train):\n",
    "        x_train, x_test = train[train_idx], train[test_idx]\n",
    "        y_train, y_test = y[train_idx], y[test_idx]\n",
    "        \n",
    "        clf.fit(x_train, y_train)\n",
    "        predictions = clf.predict(x_test)\n",
    "        error = error + sum(np.abs(predictions - y_test))\n",
    "    \n",
    "    return error / kf.n_splits"
   ]
  },
  {
   "cell_type": "code",
   "execution_count": 61,
   "metadata": {
    "id": "cLhOHI3B7gmJ"
   },
   "outputs": [
    {
     "name": "stdout",
     "output_type": "stream",
     "text": [
      "227.4 SVC(C=0.001, kernel='linear')\n",
      "227.0 SVC(C=0.01, kernel='linear')\n",
      "28.2 SVC(C=0.1, kernel='linear')\n",
      "21.4 SVC(kernel='linear')\n",
      "27.6 SVC(C=10.0, kernel='linear')\n",
      "29.6 SVC(C=100.0, kernel='linear')\n",
      "29.8 SVC(C=1000.0, kernel='linear')\n",
      "29.8 SVC(C=10000.0, kernel='linear')\n",
      "29.8 SVC(C=100000.0, kernel='linear')\n",
      "29.8 SVC(C=1000000.0, kernel='linear')\n"
     ]
    }
   ],
   "source": [
    "gammas = np.linspace(-3,6,10)\n",
    "bestGamma = -1\n",
    "minError = np.infty\n",
    "bestSVM = None\n",
    "for gamma in gammas:\n",
    "    SVMk = svm.SVC(kernel='linear', C=(10**gamma))\n",
    "    err = avgKFoldError(SVMk, trainDataK500, train_labels)\n",
    "    print(err, SVMk)\n",
    "    if err <= minError:\n",
    "        minError = err\n",
    "        bestGamma = 10**gamma\n",
    "        bestSVM = SVMk\n",
    "\n",
    "# Training best SVM\n",
    "bestSVM.fit(trainDataK500, train_labels)\n",
    "bestSVMPred = bestSVM.predict(testDataK500)\n",
    "\n",
    "scores = getScores(test_labels, bestSVMPred)"
   ]
  },
  {
   "cell_type": "markdown",
   "metadata": {},
   "source": [
    "#### Hard SVM"
   ]
  },
  {
   "cell_type": "code",
   "execution_count": 47,
   "metadata": {
    "colab": {
     "base_uri": "https://localhost:8080/"
    },
    "id": "UAoUY1v4GkpO",
    "outputId": "089ace7e-1f92-401c-ca14-e01060854ddc"
   },
   "outputs": [
    {
     "name": "stdout",
     "output_type": "stream",
     "text": [
      "Scores for Hard SVM Model: SVC(C=1000, kernel='linear')\n",
      "\n",
      "Accuracy:  0.9714285714285714\n",
      "Precision:  0.9716951349220243\n",
      "Recall Score:  0.9714285714285714\n",
      "F1 Score:  0.9714719491035282\n"
     ]
    }
   ],
   "source": [
    "print(\"Scores for Hard SVM Model: {}\\n\".format(HardSVMModel))\n",
    "print(\"Accuracy: \", getScores(test_labels, predictionsHard)['accuracy'])\n",
    "print(\"Precision: \", getScores(test_labels, predictionsHard)['precision'])\n",
    "print(\"Recall Score: \", getScores(test_labels, predictionsHard)['recall'])\n",
    "print(\"F1 Score: \", getScores(test_labels, predictionsHard)['f1'])"
   ]
  },
  {
   "cell_type": "code",
   "execution_count": 48,
   "metadata": {
    "colab": {
     "base_uri": "https://localhost:8080/",
     "height": 289
    },
    "id": "0Ppl5a3_CuEb",
    "outputId": "76c0a1e9-eaae-48e4-a40a-761a87ebb4b3"
   },
   "outputs": [
    {
     "data": {
      "image/png": "[encoded data removed]",
      "text/plain": [
       "<Figure size 432x288 with 1 Axes>"
      ]
     },
     "metadata": {
      "needs_background": "light"
     },
     "output_type": "display_data"
    }
   ],
   "source": [
    "metrics.plot_roc_curve(HardSVMModel,testDataK500, test_labels)\n",
    "plt.title(\"#1 ROC for Hard SVM (C = 1000)\")\n",
    "plt.xlabel(\"False Positive Rate(Positive Label: Climate\")\n",
    "plt.ylabel(\"True Positive Rate(Positive Label: Climate\")\n",
    "plt.show()"
   ]
  },
  {
   "cell_type": "code",
   "execution_count": 49,
   "metadata": {
    "id": "HVrOd9TDCvdt"
   },
   "outputs": [
    {
     "data": {
      "text/plain": [
       "<sklearn.metrics._plot.confusion_matrix.ConfusionMatrixDisplay at 0x7fdb59586dc0>"
      ]
     },
     "execution_count": 49,
     "metadata": {},
     "output_type": "execute_result"
    },
    {
     "data": {
      "image/png": "[encoded data removed]",
      "text/plain": [
       "<Figure size 432x288 with 2 Axes>"
      ]
     },
     "metadata": {
      "needs_background": "light"
     },
     "output_type": "display_data"
    }
   ],
   "source": [
    "plot_confusion_matrix(HardSVMModel, testDataK500, test_labels, display_labels=['sports', 'climate'])"
   ]
  },
  {
   "cell_type": "markdown",
   "metadata": {},
   "source": [
    "#### Extreme Hard SVM (γ = 100000)"
   ]
  },
  {
   "cell_type": "code",
   "execution_count": 50,
   "metadata": {
    "colab": {
     "base_uri": "https://localhost:8080/"
    },
    "id": "RUTToGfxHZBG",
    "outputId": "eb01f236-b566-4639-8117-f1f9c76e55ba"
   },
   "outputs": [
    {
     "name": "stdout",
     "output_type": "stream",
     "text": [
      "\n",
      "\n",
      "Scores for Extreme Hard Classifier: SVC(C=100000, kernel='linear')\n",
      "\n",
      "Accuracy:  0.9714285714285714\n",
      "Precision:  0.9716951349220243\n",
      "Recall Score:  0.9714285714285714\n",
      "F1 Score:  0.9714719491035282\n"
     ]
    }
   ],
   "source": [
    "print(\"\\n\\nScores for Extreme Hard Classifier: {}\\n\".format(GammaSVMModel))\n",
    "print(\"Accuracy: \", getScores(test_labels, predictionsGamma)['accuracy'])\n",
    "print(\"Precision: \", getScores(test_labels, predictionsGamma)['precision'])\n",
    "print(\"Recall Score: \", getScores(test_labels, predictionsGamma)['recall'])\n",
    "print(\"F1 Score: \", getScores(test_labels, predictionsGamma)['f1'])"
   ]
  },
  {
   "cell_type": "code",
   "execution_count": 51,
   "metadata": {
    "colab": {
     "base_uri": "https://localhost:8080/"
    },
    "id": "GBuENe21EgvV",
    "outputId": "722b9142-2d80-44ec-93f9-ee4cd45ac30f"
   },
   "outputs": [
    {
     "data": {
      "image/png": "[encoded data removed]",
      "text/plain": [
       "<Figure size 432x288 with 1 Axes>"
      ]
     },
     "metadata": {
      "needs_background": "light"
     },
     "output_type": "display_data"
    }
   ],
   "source": [
    "metrics.plot_roc_curve(GammaSVMModel,testDataK500, test_labels)\n",
    "\n",
    "plt.title(\"#2 ROC for Extreme Hard SVM (C = 100000)\")\n",
    "plt.xlabel(\"False Positive Rate(Positive Label: Climate\")\n",
    "plt.ylabel(\"True Positive Rate(Positive Label: Climate\")\n",
    "\n",
    "plt.show()"
   ]
  },
  {
   "cell_type": "code",
   "execution_count": 52,
   "metadata": {
    "id": "LG3WPnhYIUhf"
   },
   "outputs": [
    {
     "data": {
      "image/png": "[encoded data removed]",
      "text/plain": [
       "<Figure size 432x288 with 2 Axes>"
      ]
     },
     "metadata": {
      "needs_background": "light"
     },
     "output_type": "display_data"
    }
   ],
   "source": [
    "plot_confusion_matrix(GammaSVMModel, testDataK500, test_labels, display_labels=['sports', 'climate'])\n",
    "plt.show()"
   ]
  },
  {
   "cell_type": "markdown",
   "metadata": {},
   "source": [
    "#### Soft SVM"
   ]
  },
  {
   "cell_type": "code",
   "execution_count": 53,
   "metadata": {
    "colab": {
     "base_uri": "https://localhost:8080/"
    },
    "id": "-IwGlZBuKQQY",
    "outputId": "16b89c02-3809-4246-cad9-dbf091e8fe4b"
   },
   "outputs": [
    {
     "name": "stdout",
     "output_type": "stream",
     "text": [
      "Scores for Soft SVM Model: SVC(C=0.0001, kernel='linear')\n",
      "\n",
      "Accuracy:  0.5825396825396826\n",
      "Precision:  0.5825396825396826\n",
      "Recall Score:  1.0\n",
      "F1 Score:  0.7362086258776329\n"
     ]
    }
   ],
   "source": [
    "print(\"Scores for Soft SVM Model: {}\\n\".format(SoftSVMModel))\n",
    "print(\"Accuracy: \", getScores(test_labels, predictionsSoft)['accuracy'])\n",
    "print(\"Precision: \", getScores(test_labels, predictionsSoft)['precision'])\n",
    "print(\"Recall Score: \", getScores(test_labels, predictionsSoft)['recall'])\n",
    "print(\"F1 Score: \", getScores(test_labels, predictionsSoft)['f1'])"
   ]
  },
  {
   "cell_type": "code",
   "execution_count": 54,
   "metadata": {
    "colab": {
     "base_uri": "https://localhost:8080/",
     "height": 289
    },
    "id": "jpCKB-fBKWOz",
    "outputId": "8d915dfe-1828-4e8c-95a5-dc9a375ec0e7"
   },
   "outputs": [
    {
     "data": {
      "image/png": "[encoded data removed]",
      "text/plain": [
       "<Figure size 432x288 with 1 Axes>"
      ]
     },
     "metadata": {
      "needs_background": "light"
     },
     "output_type": "display_data"
    }
   ],
   "source": [
    "metrics.plot_roc_curve(SoftSVMModel,testDataK500, test_labels)\n",
    "plt.title(\"#3 ROC for Soft SVM (C = 0.0001)\")\n",
    "plt.xlabel(\"False Positive Rate(Positive Label: Climate\")\n",
    "plt.ylabel(\"True Positive Rate(Positive Label: Climate\")\n",
    "plt.show()\n"
   ]
  },
  {
   "cell_type": "code",
   "execution_count": 60,
   "metadata": {},
   "outputs": [
    {
     "data": {
      "image/png": "[encoded data removed]",
      "text/plain": [
       "<Figure size 432x288 with 2 Axes>"
      ]
     },
     "metadata": {
      "needs_background": "light"
     },
     "output_type": "display_data"
    }
   ],
   "source": [
    "plot_confusion_matrix(SoftSVMModel, testDataK500, test_labels, display_labels=['sports', 'climate'])\n",
    "plt.show()"
   ]
  },
  {
   "cell_type": "markdown",
   "metadata": {
    "id": "wIZSlA80_EVm"
   },
   "source": [
    "#### Best SVM"
   ]
  },
  {
   "cell_type": "code",
   "execution_count": 62,
   "metadata": {
    "colab": {
     "base_uri": "https://localhost:8080/"
    },
    "id": "rtV4KScT_Lf4",
    "outputId": "997b2a47-0cc3-4aec-c945-f0532f05fd60"
   },
   "outputs": [
    {
     "name": "stdout",
     "output_type": "stream",
     "text": [
      "\n",
      "\n",
      "Scores for Best SVM Classifier after 5-Fold cross validation: SVC(kernel='linear')\n",
      "\n",
      "Accuracy:  0.9682539682539683\n",
      "Precision:  0.9686977450753418\n",
      "Recall Score:  0.9682539682539683\n",
      "F1 Score:  0.9683168569787569\n"
     ]
    }
   ],
   "source": [
    "print(\"\\n\\nScores for Best SVM Classifier after 5-Fold cross validation: {}\\n\".format(bestSVM))\n",
    "print(\"Accuracy: \", getScores(test_labels, bestSVMPred)['accuracy'])\n",
    "print(\"Precision: \", getScores(test_labels, bestSVMPred)['precision'])\n",
    "print(\"Recall Score: \", getScores(test_labels, bestSVMPred)['recall'])\n",
    "print(\"F1 Score: \", getScores(test_labels, bestSVMPred)['f1'])"
   ]
  },
  {
   "cell_type": "code",
   "execution_count": 63,
   "metadata": {
    "colab": {
     "base_uri": "https://localhost:8080/"
    },
    "id": "Y3h6ib3pB4cz",
    "outputId": "4d0a1908-01eb-4267-b275-03375d5f57eb"
   },
   "outputs": [
    {
     "data": {
      "image/png": "[encoded data removed]",
      "text/plain": [
       "<Figure size 432x288 with 1 Axes>"
      ]
     },
     "metadata": {
      "needs_background": "light"
     },
     "output_type": "display_data"
    }
   ],
   "source": [
    "metrics.plot_roc_curve(bestSVM, testDataK500, test_labels)\n",
    "plt.title(\"ROC for best SVM (C = {})\".format(bestGamma))\n",
    "plt.xlabel(\"False Positive Rate(Positive Label: Climate\")\n",
    "plt.ylabel(\"True Positive Rate(Positive Label: Climate\")\n",
    "plt.show()"
   ]
  },
  {
   "cell_type": "code",
   "execution_count": 59,
   "metadata": {
    "id": "0-d0wbrfCFWi"
   },
   "outputs": [
    {
     "data": {
      "image/png": "[encoded data removed]",
      "text/plain": [
       "<Figure size 432x288 with 2 Axes>"
      ]
     },
     "metadata": {
      "needs_background": "light"
     },
     "output_type": "display_data"
    }
   ],
   "source": [
    "plot_confusion_matrix(bestSVM, testDataK500, test_labels, display_labels=['sports', 'climate'])\n",
    "plt.show()"
   ]
  },
  {
   "cell_type": "markdown",
   "metadata": {},
   "source": [
    "## Q5\n",
    "**a)**. By Analyzing the metric for Linear SVM with γ = 0.0001 and γ = 1000, Linear SVM with γ = 1000 performs better.It has accuracy of around 97.14 % on test data with 12 False Positive and 6 False Negative where as Soft SVM has an accuracy of about 58.25 %.\n",
    "\n",
    "For extreme hard margin SVM with γ = 100000, we see the results are very close to that of gamma = 1000 which indicates that the data is seprable with quite large margin.\n",
    "\n",
    "Accuracy metric for all the case is mentioned below \n",
    "\n",
    "Scores for Hard SVM Model: SVC(C=1000, kernel='linear')\n",
    "\n",
    "\n",
    "    Accuracy:  0.9714285714285714\n",
    "    Precision:  0.9716951349220243\n",
    "    Recall Score:  0.9714285714285714\n",
    "    F1 Score:  0.9714719491035282\n",
    "\n",
    "Scores for Extreme Hard Classifier: SVC(C=100000, kernel='linear')\n",
    "\n",
    "    Accuracy:  0.9714285714285714\n",
    "    Precision:  0.9716951349220243\n",
    "    Recall Score:  0.9714285714285714\n",
    "    F1 Score:  0.9714719491035282\n",
    "Scores for Soft SVM Model: SVC(C=0.0001, kernel='linear')\n",
    "\n",
    "    Accuracy:  0.5825396825396826\n",
    "    Precision:  0.5825396825396826\n",
    "    Recall Score:  1.0\n",
    "    F1 Score:  0.7362086258776329\n",
    "**b).** The soft SVM with γ = 0.0001 performs very poorly with low precision and accuracy as the penalty for misclassification is quite low. From the the confusion it can be seen that all data points are predicted as sport label.\n",
    "\n",
    "When compared to all other SVMs, the Soft SVM's ROC curve has the least area under the curve. Although the ROC curve appears to be flawless and has a high AUC therfore we cannot only rely on it. It has a very low operating threshold at which it performs well.\n",
    "\n",
    "**c).** Using 5-Fold Cross Validation, the best value of gamma = C = 1.0, with average number of missclassifications per fold = 21. Its confusion matrix and ROC curves are plotted above.\n",
    "\n",
    "Scores for Best SVM Classifier after 5-Fold cross validation: SVC(kernel='linear')\n",
    "\n",
    "    Accuracy:  0.9682539682539683\n",
    "    Precision:  0.9686977450753418\n",
    "    Recall Score:  0.9682539682539683\n",
    "    F1 Score:  0.9683168569787569"
   ]
  },
  {
   "cell_type": "markdown",
   "metadata": {},
   "source": [
    "### Logistic Regression"
   ]
  },
  {
   "cell_type": "code",
   "execution_count": 64,
   "metadata": {
    "colab": {
     "base_uri": "https://localhost:8080/"
    },
    "id": "OnJrFJQCCNn2",
    "outputId": "5010a15d-c61a-4fdf-adde-ae6fd80428d7"
   },
   "outputs": [],
   "source": [
    "logisticNoReg = LogisticRegression(random_state=42, C=100000, max_iter=5000).fit(trainDataK500, train_labels)\n",
    "logisticNoRegPred = logisticNoReg.predict(testDataK500)\n",
    "logisticNoRegScores = getScores(test_labels, logisticNoRegPred)"
   ]
  },
  {
   "cell_type": "code",
   "execution_count": 68,
   "metadata": {},
   "outputs": [
    {
     "name": "stdout",
     "output_type": "stream",
     "text": [
      "----------------------------------------------------------------------------------------------------\n",
      "Metrics for best L1 Logistic classifier without regularization\n",
      "{'confusion_matrix': <function confusion_matrix at 0x7fdb57545820>, 'accuracy': 0.973015873015873, 'precision': 0.9735390292057232, 'recall': 0.973015873015873, 'f1': 0.9730753546235339}\n"
     ]
    },
    {
     "data": {
      "image/png": "[encoded data removed]",
      "text/plain": [
       "<Figure size 432x288 with 1 Axes>"
      ]
     },
     "metadata": {
      "needs_background": "light"
     },
     "output_type": "display_data"
    }
   ],
   "source": [
    "print(\"-\"*100)\n",
    "print(\"Metrics for best L1 Logistic classifier without regularization\")\n",
    "print(logisticNoRegScores)\n",
    "\n",
    "metrics.plot_roc_curve(logisticNoReg, testDataK500, test_labels)\n",
    "plt.title(\"ROC for best L1 Logistic classifier without regularization\")\n",
    "plt.xlabel(\"False Positive Rate(Positive Label: Climate\")\n",
    "plt.ylabel(\"True Positive Rate(Positive Label: Climate\")\n",
    "plt.show()"
   ]
  },
  {
   "cell_type": "code",
   "execution_count": 69,
   "metadata": {},
   "outputs": [
    {
     "data": {
      "image/png": "[encoded data removed]",
      "text/plain": [
       "<Figure size 432x288 with 2 Axes>"
      ]
     },
     "metadata": {
      "needs_background": "light"
     },
     "output_type": "display_data"
    }
   ],
   "source": [
    "plot_confusion_matrix(logisticNoReg, testDataK500, test_labels, display_labels=['sports', 'climate'])\n",
    "plt.show()"
   ]
  },
  {
   "cell_type": "markdown",
   "metadata": {},
   "source": [
    "#### L1 regularization"
   ]
  },
  {
   "cell_type": "code",
   "execution_count": 66,
   "metadata": {
    "colab": {
     "base_uri": "https://localhost:8080/",
     "height": 289
    },
    "id": "W1ewieNMCVJi",
    "outputId": "7d7443a7-c7da-4201-ae10-47b3fcc91ffe"
   },
   "outputs": [
    {
     "name": "stdout",
     "output_type": "stream",
     "text": [
      "Avg. no. of misclassification:  227.4 LogisticRegression(C=1e-05, max_iter=5000, penalty='l1', random_state=42,\n",
      "                   solver='liblinear')\n",
      "Avg. no. of misclassification:  227.4 LogisticRegression(C=0.0001, max_iter=5000, penalty='l1', random_state=42,\n",
      "                   solver='liblinear')\n",
      "Avg. no. of misclassification:  227.4 LogisticRegression(C=0.001, max_iter=5000, penalty='l1', random_state=42,\n",
      "                   solver='liblinear')\n",
      "Avg. no. of misclassification:  227.4 LogisticRegression(C=0.01, max_iter=5000, penalty='l1', random_state=42,\n",
      "                   solver='liblinear')\n",
      "Avg. no. of misclassification:  37.0 LogisticRegression(C=0.1, max_iter=5000, penalty='l1', random_state=42,\n",
      "                   solver='liblinear')\n",
      "Avg. no. of misclassification:  23.4 LogisticRegression(max_iter=5000, penalty='l1', random_state=42,\n",
      "                   solver='liblinear')\n",
      "Avg. no. of misclassification:  20.4 LogisticRegression(C=10.0, max_iter=5000, penalty='l1', random_state=42,\n",
      "                   solver='liblinear')\n",
      "Avg. no. of misclassification:  22.6 LogisticRegression(C=100.0, max_iter=5000, penalty='l1', random_state=42,\n",
      "                   solver='liblinear')\n",
      "Avg. no. of misclassification:  24.4 LogisticRegression(C=1000.0, max_iter=5000, penalty='l1', random_state=42,\n",
      "                   solver='liblinear')\n",
      "Avg. no. of misclassification:  30.8 LogisticRegression(C=10000.0, max_iter=5000, penalty='l1', random_state=42,\n",
      "                   solver='liblinear')\n",
      "Avg. no. of misclassification:  36.0 LogisticRegression(C=100000.0, max_iter=5000, penalty='l1', random_state=42,\n",
      "                   solver='liblinear')\n",
      "--------------------------------------------------\n",
      "Metrics for best L1 Logistic classifier with regularization = 10.0\n",
      "{'confusion_matrix': <function confusion_matrix at 0x7fdb57545820>, 'accuracy': 0.9682539682539683, 'precision': 0.968903800836574, 'recall': 0.9682539682539683, 'f1': 0.9683308660590758}\n"
     ]
    },
    {
     "data": {
      "image/png": "[encoded data removed]",
      "text/plain": [
       "<Figure size 432x288 with 1 Axes>"
      ]
     },
     "metadata": {
      "needs_background": "light"
     },
     "output_type": "display_data"
    }
   ],
   "source": [
    "logRegs = np.linspace(-5,5,11)\n",
    "bestRegL1 = -1\n",
    "minL1Error = np.infty\n",
    "bestL1Model = None\n",
    "for reg in logRegs:\n",
    "    clfLog = LogisticRegression(penalty='l1', solver='liblinear', random_state=42, C=10**reg, max_iter=5000)\n",
    "    err = avgKFoldError(clfLog, trainDataK500, train_labels)\n",
    "    print(\"Avg. no. of misclassification: \", err, clfLog)\n",
    "    if err <= minL1Error:\n",
    "        minL1Error = err\n",
    "        bestRegL1 = 10**reg\n",
    "        bestL1Model = clfLog\n",
    "\n",
    "# Training best L1 Logistic classifier\n",
    "bestL1Model.fit(trainDataK500, train_labels)\n",
    "bestL1Pred = bestL1Model.predict(testDataK500)\n",
    "\n",
    "L1scores = getScores(test_labels, bestL1Pred)\n",
    "print(\"-\"*100)\n",
    "print(\"Metrics for best L1 Logistic classifier with regularization = {}\".format(bestRegL1))\n",
    "print(L1scores)\n",
    "\n",
    "metrics.plot_roc_curve(bestL1Model, testDataK500, test_labels)\n",
    "plt.title(\"ROC for best L1 Logistic classifier with regularization = {}\".format(bestRegL1))\n",
    "plt.xlabel(\"False Positive Rate(Positive Label: Climate\")\n",
    "plt.ylabel(\"True Positive Rate(Positive Label: Climate\")\n",
    "plt.show()\n"
   ]
  },
  {
   "cell_type": "code",
   "execution_count": 70,
   "metadata": {},
   "outputs": [
    {
     "data": {
      "image/png": "[encoded data removed]",
      "text/plain": [
       "<Figure size 432x288 with 2 Axes>"
      ]
     },
     "metadata": {
      "needs_background": "light"
     },
     "output_type": "display_data"
    }
   ],
   "source": [
    "plot_confusion_matrix(bestL1Model, testDataK500, test_labels, display_labels=['sports', 'climate'])\n",
    "plt.show()"
   ]
  },
  {
   "cell_type": "markdown",
   "metadata": {},
   "source": [
    "#### L2 regularization "
   ]
  },
  {
   "cell_type": "code",
   "execution_count": 67,
   "metadata": {
    "colab": {
     "base_uri": "https://localhost:8080/"
    },
    "id": "NuZhWjW-Kiey",
    "outputId": "ebbf1ea3-6d76-40a4-c14d-dd623cfa49c5"
   },
   "outputs": [
    {
     "name": "stdout",
     "output_type": "stream",
     "text": [
      "Avg. no. of misclassification:  227.4 LogisticRegression(C=1e-05, max_iter=5000, random_state=42, solver='liblinear')\n",
      "Avg. no. of misclassification:  227.4 LogisticRegression(C=0.0001, max_iter=5000, random_state=42, solver='liblinear')\n",
      "Avg. no. of misclassification:  227.4 LogisticRegression(C=0.001, max_iter=5000, random_state=42, solver='liblinear')\n",
      "Avg. no. of misclassification:  135.4 LogisticRegression(C=0.01, max_iter=5000, random_state=42, solver='liblinear')\n",
      "Avg. no. of misclassification:  33.8 LogisticRegression(C=0.1, max_iter=5000, random_state=42, solver='liblinear')\n",
      "Avg. no. of misclassification:  21.4 LogisticRegression(max_iter=5000, random_state=42, solver='liblinear')\n",
      "Avg. no. of misclassification:  20.6 LogisticRegression(C=10.0, max_iter=5000, random_state=42, solver='liblinear')\n",
      "Avg. no. of misclassification:  22.6 LogisticRegression(C=100.0, max_iter=5000, random_state=42, solver='liblinear')\n",
      "Avg. no. of misclassification:  24.0 LogisticRegression(C=1000.0, max_iter=5000, random_state=42, solver='liblinear')\n",
      "Avg. no. of misclassification:  25.8 LogisticRegression(C=10000.0, max_iter=5000, random_state=42,\n",
      "                   solver='liblinear')\n",
      "Avg. no. of misclassification:  26.8 LogisticRegression(C=100000.0, max_iter=5000, random_state=42,\n",
      "                   solver='liblinear')\n",
      "----------------------------------------------------------------------------------------------------\n",
      "Metrics for best L2 Logistic classifier with regularization = 10.0\n",
      "{'confusion_matrix': <function confusion_matrix at 0x7fdb57545820>, 'accuracy': 0.9666666666666667, 'precision': 0.9670267489711935, 'recall': 0.9666666666666667, 'f1': 0.9667250766254357}\n"
     ]
    },
    {
     "data": {
      "image/png": "[encoded data removed]",
      "text/plain": [
       "<Figure size 432x288 with 1 Axes>"
      ]
     },
     "metadata": {
      "needs_background": "light"
     },
     "output_type": "display_data"
    }
   ],
   "source": [
    "bestRegL2 = -1\n",
    "minL2Error = np.infty\n",
    "bestL2Model = None\n",
    "for reg in logRegs:\n",
    "    clfLog = LogisticRegression(penalty='l2', random_state=42, C=10**reg, max_iter=5000, solver='liblinear')\n",
    "    err = avgKFoldError(clfLog, trainDataK500, train_labels)\n",
    "    print(\"Avg. no. of misclassification: \", err, clfLog)\n",
    "    if err <= minL2Error:\n",
    "        minL2Error = err\n",
    "        bestRegL2 = 10**reg\n",
    "        bestL2Model = clfLog\n",
    "\n",
    "# Training best L2 Logistic classifier\n",
    "bestL2Model.fit(trainDataK500, train_labels)\n",
    "bestL2Pred = bestL2Model.predict(testDataK500)\n",
    "\n",
    "L2scores = getScores(test_labels, bestL2Pred)\n",
    "print(\"-\"*100)\n",
    "print(\"Metrics for best L2 Logistic classifier with regularization = {}\".format(bestRegL1))\n",
    "print(L2scores)\n",
    "\n",
    "metrics.plot_roc_curve(bestL2Model, testDataK500, test_labels)\n",
    "plt.title(\"ROC for best L2 Logistic classifier with regularization = {}\".format(bestRegL2))\n",
    "plt.xlabel(\"False Positive Rate(Positive Label: Climate\")\n",
    "plt.ylabel(\"True Positive Rate(Positive Label: Climate\")\n",
    "plt.show()"
   ]
  },
  {
   "cell_type": "code",
   "execution_count": 71,
   "metadata": {
    "id": "EzvXn7hmMVJZ"
   },
   "outputs": [
    {
     "data": {
      "image/png": "[encoded data removed]",
      "text/plain": [
       "<Figure size 432x288 with 2 Axes>"
      ]
     },
     "metadata": {
      "needs_background": "light"
     },
     "output_type": "display_data"
    }
   ],
   "source": [
    "plot_confusion_matrix(bestL2Model, testDataK500, test_labels, display_labels=['sports', 'climate'])\n",
    "plt.show()"
   ]
  },
  {
   "cell_type": "markdown",
   "metadata": {},
   "source": [
    "### Q6\n",
    "\n",
    "**a).** The ROC curve and condusion matrix for Logistic Regression without regularization are shown above. The scores for the same on testing set are as follows:\n",
    "\n",
    "    Accuracy: 0.973015873015873 \n",
    "    Precision: 0.9735390292057232 \n",
    "    Recall Score: 0.97301587301587\n",
    "    F1 Score: 0.9730753546235339\n",
    "**b).** The optimal L1 regularization strength which is obtained after performing 5-fold cross validation on dimension reduced by SVD data is: C = 10.0 which is equal to 0.1 regularization strength. Solver = 'liblinear'\n",
    "\n",
    "    Accuracy: 0.9682539682539683\n",
    "    Precision: 0.968903800836574\n",
    "    Recall Score: 0.9682539682539683\n",
    "    F1 Score: 0.9683308660590758\n",
    "The optimal L2 regularization strength which is obtained after performing 5-fold cross validation on dimension reduced by SVD data is: C = 10.0 which is equal to 0.1 regularization strength. Solver = 'liblinear'\n",
    "\n",
    "    Accuracy: 0.9666666666666667\n",
    "    Precision: 0.9670267489711935\n",
    "    Recall Score: 0.9666666666666667\n",
    "    F1 Score: 0.9667250766254357\n",
    "**c).** \n",
    " Below are the avg no. of missclassification for L! regularization at different parameter --\n",
    " \n",
    "    Avg. no. of misclassification:  227.4         C=1e-05\n",
    "    Avg. no. of misclassification:  227.4         C=0.0001\n",
    "    Avg. no. of misclassification:  227.4         C=0.001\n",
    "    Avg. no. of misclassification:  135.4         C=0.01\n",
    "    Avg. no. of misclassification:  37.0          C=0.1\n",
    "    Avg. no. of misclassification:  21.4          C=1.0\n",
    "    Avg. no. of misclassification:  20.6          C=10.0\n",
    "    Avg. no. of misclassification:  22.6          C=100.0\n",
    "    Avg. no. of misclassification:  24.4          C=1000.0\n",
    "    Avg. no. of misclassification:  30.8          C=10000.0\n",
    "\n",
    "For L2 regularizer \n",
    "\n",
    "    Avg. no. of misclassification:  227.4         C=1e-05\n",
    "    Avg. no. of misclassification:  227.4         C=0.0001\n",
    "    Avg. no. of misclassification:  227.4         C=0.001\n",
    "    Avg. no. of misclassification:  227.4         C=0.01\n",
    "    Avg. no. of misclassification:  33.8          C=0.1\n",
    "    Avg. no. of misclassification:  23.4          C=1.0\n",
    "    Avg. no. of misclassification:  20.4          C=10.0\n",
    "    Avg. no. of misclassification:  22.6          C=100.0\n",
    "    Avg. no. of misclassification:  24.0          C=1000.0\n",
    "    Avg. no. of misclassification:  25.8          C=10000.0\n",
    "\n",
    "From the above account we can see that the test error first decreases with the increase in regularization parameter from 0.0001 till 10 where it achieves its minima and then the test error increases with the increase in regularization parameter.\n",
    "\n",
    "Effect of regularization on the learned coefficients <br>\n",
    "-->As the regularization parameter is increased the effect of features is reduced i.e. the effect of features is somewhat reduced and as we keep on increasing the regularization parameter, the model becomes too relax and starts to perform worse due to high underfitting since features just represent a striaght line with zero slope.\n",
    "\n",
    "-->Different types of regularization are used, to tackle different types of data and to handle the results. L2 regularization is used when the data is clean, there are not many outliers in the data, since L2 penalizes the errors more, also L2 is used when all features are important to consider since L2 regularization doest help in feature selection.\n",
    "\n",
    "-->L1 regularization is used when one is unsure of the important features as using L1 reg. unimportant feature's weights are set to 0 where in L2 reg. this only asymptotically reaches to 0. Also L1 reg. can be used when there are outliers in data.\n",
    "\n",
    "    \n",
    "**d).**\n",
    "Logistic regression and SVM are quite similar in the terms that both are classifying the data using a linear decision boundary. The difference is that logistic regression uses a probability based approach whereas SVM uses a geometrical/ deterministic approach. Logistic regression tries to find the odds in favour of a class, SVM tries to find a decision boundary/ separating hyperplane which maximizes the distance between the separating hyperplace. Their performances differ because of the fact that SVM uses concept of margins. When the data is completely linearly separable the results are very much comparable for both but when its' not the case, the gamma parameter in SVM's decides the difference in results between Logistic and SVM.\n",
    "\n",
    "Also SVM's perform better when the data has a lot number of features then the training samples, thats because it used the Kernelization method to overcome the curse of dimensionality but this is not the case for Logistic Regression. Also we can fit non linear decision boundaries with SVM but the same cant be done with LR.\n",
    "\n",
    "With the above data in hand, Logistic Regression seems to perform better having 98.3 % accuracy compared to that of 97.6% of SVM's.\n",
    "\n",
    "\n"
   ]
  },
  {
   "cell_type": "code",
   "execution_count": null,
   "metadata": {
    "colab": {
     "base_uri": "https://localhost:8080/"
    },
    "id": "HSqHaYaBMdpt",
    "outputId": "67dd4a11-817d-48e1-8af8-e0124e59255d"
   },
   "outputs": [
    {
     "name": "stdout",
     "output_type": "stream",
     "text": [
      "accuracy =  0.9542168674698795  precision =  0.9439252336448598  recall =  0.9665071770334929\n"
     ]
    }
   ],
   "source": [
    "print(\"accuracy = \",accuracy_score(Y_test, predicted_logreg),\" precision = \",precision_score(Y_test, predicted_logreg), \" recall = \",recall_score(Y_test, predicted_logreg))"
   ]
  },
  {
   "cell_type": "code",
   "execution_count": null,
   "metadata": {
    "colab": {
     "base_uri": "https://localhost:8080/",
     "height": 289
    },
    "id": "7aF8KlPDMjZE",
    "outputId": "bfc1cae9-7e12-45e6-d8d7-f6e29405313d"
   },
   "outputs": [
    {
     "data": {
      "image/png": "[encoded data removed]",
      "text/plain": [
       "<Figure size 432x288 with 1 Axes>"
      ]
     },
     "metadata": {
      "needs_background": "light"
     },
     "output_type": "display_data"
    }
   ],
   "source": [
    "fpr, tpr, _ = roc_curve(Y_test, predicted_logreg)\n",
    "plot_roc(fpr, tpr)"
   ]
  },
  {
   "cell_type": "markdown",
   "metadata": {
    "id": "QiSfhuCsNovk"
   },
   "source": [
    "###L2 regularization Ridge Regression"
   ]
  },
  {
   "cell_type": "code",
   "execution_count": null,
   "metadata": {
    "colab": {
     "base_uri": "https://localhost:8080/"
    },
    "id": "SeK36I7RMwpO",
    "outputId": "c7773ae6-2c8d-4149-8c52-554701e973ac"
   },
   "outputs": [
    {
     "data": {
      "text/plain": [
       "LogisticRegression(C=100, random_state=42)"
      ]
     },
     "execution_count": 47,
     "metadata": {},
     "output_type": "execute_result"
    }
   ],
   "source": [
    "logregl2 = LogisticRegression(penalty='l2',random_state=42,C=100)\n",
    "logregl2.fit(W_train_svd,Y_train)"
   ]
  },
  {
   "cell_type": "code",
   "execution_count": null,
   "metadata": {
    "id": "SrvFUsfwOJSC"
   },
   "outputs": [],
   "source": [
    "predicted_logregl2 = logregl2.predict(W_test_svd)"
   ]
  },
  {
   "cell_type": "code",
   "execution_count": null,
   "metadata": {
    "colab": {
     "base_uri": "https://localhost:8080/"
    },
    "id": "j3eGtMpFOMRC",
    "outputId": "fc74bfcb-c375-413e-cf4f-4fd3c0ac57c0"
   },
   "outputs": [
    {
     "name": "stdout",
     "output_type": "stream",
     "text": [
      "accuracy =  0.9518072289156626  precision =  0.9395348837209302  recall =  0.9665071770334929\n"
     ]
    }
   ],
   "source": [
    "print(\"accuracy = \",accuracy_score(Y_test, predicted_logregl2),\" precision = \",precision_score(Y_test, predicted_logregl2), \" recall = \",recall_score(Y_test, predicted_logregl2))"
   ]
  },
  {
   "cell_type": "code",
   "execution_count": null,
   "metadata": {
    "colab": {
     "base_uri": "https://localhost:8080/",
     "height": 289
    },
    "id": "v7nC0hlfOZtZ",
    "outputId": "20fc49e8-046f-49ca-ff0c-f86856cb1d06"
   },
   "outputs": [
    {
     "data": {
      "image/png": "[encoded data removed]",
      "text/plain": [
       "<Figure size 432x288 with 1 Axes>"
      ]
     },
     "metadata": {
      "needs_background": "light"
     },
     "output_type": "display_data"
    }
   ],
   "source": [
    "fpr, tpr, _ = roc_curve(Y_test, predicted_logregl2)\n",
    "plot_roc(fpr, tpr)"
   ]
  },
  {
   "cell_type": "code",
   "execution_count": null,
   "metadata": {
    "colab": {
     "base_uri": "https://localhost:8080/"
    },
    "id": "pxuU42HuDdUc",
    "outputId": "d2a4a451-4b81-4a59-c920-03090b3ba969"
   },
   "outputs": [
    {
     "name": "stdout",
     "output_type": "stream",
     "text": [
      "reg strength =  0.0001   accuracy =  0.5009063444108761\n",
      "reg strength =  0.001   accuracy =  0.8853492519928657\n",
      "reg strength =  0.01   accuracy =  0.9112710661376624\n",
      "reg strength =  0.1   accuracy =  0.9094656571906963\n",
      "reg strength =  1.0   accuracy =  0.9215411494922288\n",
      "reg strength =  10.0   accuracy =  0.9257634768681978\n",
      "reg strength =  100.0   accuracy =  0.9378335092636407\n",
      "reg strength =  1000.0   accuracy =  0.9360226404105848\n",
      "reg strength =  10000.0   accuracy =  0.9348141811960833\n"
     ]
    }
   ],
   "source": [
    "reg_strength = np.array([0.0001,0.001,0.01,0.1,1,10,100,1000,10000])\n",
    "cv_scores_l2 = []\n",
    "for K in reg_strength:\n",
    "    clf = LogisticRegression(penalty='l2',random_state=42,C=K)\n",
    "    score = cross_val_score(clf, W_train_svd, Y_train, cv=5, scoring='accuracy')\n",
    "    print(\"reg strength = \",K,\"  accuracy = \",score.mean())\n",
    "    cv_scores_l2.append(score.mean())"
   ]
  },
  {
   "cell_type": "code",
   "execution_count": null,
   "metadata": {
    "colab": {
     "base_uri": "https://localhost:8080/",
     "height": 306
    },
    "id": "N9Q_cwbMEtKx",
    "outputId": "b3cb220c-f23a-488b-bf6f-e1fff7ba06b5"
   },
   "outputs": [
    {
     "name": "stdout",
     "output_type": "stream",
     "text": [
      "accuracy =  0.9518072289156626  precision =  0.9395348837209302  recall =  0.9665071770334929\n"
     ]
    },
    {
     "data": {
      "image/png": "[encoded data removed]",
      "text/plain": [
       "<Figure size 432x288 with 1 Axes>"
      ]
     },
     "metadata": {
      "needs_background": "light"
     },
     "output_type": "display_data"
    }
   ],
   "source": [
    "logregl2_best = LogisticRegression(penalty='l2',random_state=42,C=100)\n",
    "logregl2_best.fit(W_train_svd,Y_train)\n",
    "predicted_logregl2_best = logregl2_best.predict(W_test_svd)\n",
    "print(\"accuracy = \",accuracy_score(Y_test, predicted_logregl2_best),\" precision = \",precision_score(Y_test, predicted_logregl2_best), \" recall = \",recall_score(Y_test, predicted_logregl2_best))\n",
    "fpr, tpr, _ = roc_curve(Y_test, predicted_logregl2_best)\n",
    "plot_roc(fpr, tpr)"
   ]
  },
  {
   "cell_type": "markdown",
   "metadata": {
    "id": "ZaJmDANaOlkx"
   },
   "source": [
    "###L1 regularization Lasso Regression"
   ]
  },
  {
   "cell_type": "code",
   "execution_count": null,
   "metadata": {
    "colab": {
     "base_uri": "https://localhost:8080/"
    },
    "id": "1R-mv7mhOgem",
    "outputId": "0fbe0d56-35cb-4a4f-fcd1-4a3986bc1b5f"
   },
   "outputs": [
    {
     "data": {
      "text/plain": [
       "LogisticRegression(C=10, penalty='l1', random_state=42, solver='liblinear')"
      ]
     },
     "execution_count": 56,
     "metadata": {},
     "output_type": "execute_result"
    }
   ],
   "source": [
    "logregl1 = LogisticRegression(penalty='l1',random_state=42,C=10, solver='liblinear')\n",
    "logregl1.fit(W_train_svd,Y_train)"
   ]
  },
  {
   "cell_type": "code",
   "execution_count": null,
   "metadata": {
    "id": "JbretkyEOyHI"
   },
   "outputs": [],
   "source": [
    "predicted_logregl1 = logregl1.predict(W_test_svd)"
   ]
  },
  {
   "cell_type": "code",
   "execution_count": null,
   "metadata": {
    "colab": {
     "base_uri": "https://localhost:8080/"
    },
    "id": "nWqYUMxLPZRw",
    "outputId": "a722741b-27e5-4a65-8566-6773ee60b031"
   },
   "outputs": [
    {
     "name": "stdout",
     "output_type": "stream",
     "text": [
      "accuracy =  0.9542168674698795  precision =  0.9439252336448598  recall =  0.9665071770334929\n"
     ]
    }
   ],
   "source": [
    "print(\"accuracy = \",accuracy_score(Y_test, predicted_logregl1),\" precision = \",precision_score(Y_test, predicted_logregl1), \" recall = \",recall_score(Y_test, predicted_logregl1))"
   ]
  },
  {
   "cell_type": "code",
   "execution_count": null,
   "metadata": {
    "colab": {
     "base_uri": "https://localhost:8080/",
     "height": 289
    },
    "id": "st6iyEX1PdVS",
    "outputId": "49808859-4251-4f1a-efb7-261b8ecd3f3c"
   },
   "outputs": [
    {
     "data": {
      "image/png": "[encoded data removed]",
      "text/plain": [
       "<Figure size 432x288 with 1 Axes>"
      ]
     },
     "metadata": {
      "needs_background": "light"
     },
     "output_type": "display_data"
    }
   ],
   "source": [
    "fpr, tpr, _ = roc_curve(Y_test, predicted_logregl1)\n",
    "plot_roc(fpr, tpr)"
   ]
  },
  {
   "cell_type": "code",
   "execution_count": null,
   "metadata": {
    "colab": {
     "base_uri": "https://localhost:8080/"
    },
    "id": "euUpOARBFHLt",
    "outputId": "b7c5661e-34fc-45ca-e6c5-a69aae0d2514"
   },
   "outputs": [
    {
     "name": "stdout",
     "output_type": "stream",
     "text": [
      "reg strength  =  0.0001   accuracy =  0.5009063444108761\n",
      "reg strength  =  0.001   accuracy =  0.5009063444108761\n",
      "reg strength  =  0.01   accuracy =  0.5009063444108761\n",
      "reg strength  =  0.1   accuracy =  0.9082590179448914\n",
      "reg strength  =  1.0   accuracy =  0.9239598878899283\n",
      "reg strength  =  10.0   accuracy =  0.9366268700178356\n",
      "reg strength  =  100.0   accuracy =  0.9348141811960833\n",
      "reg strength  =  1000.0   accuracy =  0.9348141811960833\n",
      "reg strength  =  10000.0   accuracy =  0.9348141811960833\n"
     ]
    }
   ],
   "source": [
    "reg_strength = np.array([0.0001,0.001,0.01,0.1,1,10,100,1000,10000])\n",
    "cv_scores_l1 = []\n",
    "for K in reg_strength:\n",
    "    clf = LogisticRegression(penalty='l1',random_state=42,C=K, solver='liblinear')\n",
    "    score = cross_val_score(clf, W_train_svd, Y_train, cv=5, scoring='accuracy')\n",
    "    print(\"reg strength  = \",K,\"  accuracy = \",score.mean())\n",
    "    cv_scores_l1.append(score.mean())"
   ]
  },
  {
   "cell_type": "code",
   "execution_count": null,
   "metadata": {
    "colab": {
     "base_uri": "https://localhost:8080/",
     "height": 306
    },
    "id": "UHQ2GS59FTb4",
    "outputId": "89e08eac-aca5-4575-bad6-a3503db46ca1"
   },
   "outputs": [
    {
     "name": "stdout",
     "output_type": "stream",
     "text": [
      "accuracy =  0.9542168674698795  precision =  0.9439252336448598  recall =  0.9665071770334929\n"
     ]
    },
    {
     "data": {
      "image/png": "[encoded data removed]",
      "text/plain": [
       "<Figure size 432x288 with 1 Axes>"
      ]
     },
     "metadata": {
      "needs_background": "light"
     },
     "output_type": "display_data"
    }
   ],
   "source": [
    "logregl1_best = LogisticRegression(penalty='l1',random_state=42,C=10, solver='liblinear')\n",
    "logregl1_best.fit(W_train_svd,Y_train)\n",
    "predicted_logregl1_best = logregl1_best.predict(W_test_svd)\n",
    "print(\"accuracy = \",accuracy_score(Y_test, predicted_logregl1_best),\" precision = \",precision_score(Y_test, predicted_logregl1_best), \" recall = \",recall_score(Y_test, predicted_logregl1_best))\n",
    "fpr, tpr, _ = roc_curve(Y_test, predicted_logregl1_best)\n",
    "plot_roc(fpr, tpr)"
   ]
  },
  {
   "cell_type": "markdown",
   "metadata": {
    "id": "_kTY41i2QhXM"
   },
   "source": [
    "###Naive Bayes Model"
   ]
  },
  {
   "cell_type": "code",
   "execution_count": null,
   "metadata": {
    "colab": {
     "base_uri": "https://localhost:8080/"
    },
    "id": "nS6hw-zEPjlE",
    "outputId": "df24ffce-6242-4c22-ae76-d105c426aa37"
   },
   "outputs": [
    {
     "data": {
      "text/plain": [
       "GaussianNB()"
      ]
     },
     "execution_count": 63,
     "metadata": {},
     "output_type": "execute_result"
    }
   ],
   "source": [
    "from sklearn.naive_bayes import GaussianNB\n",
    "gnb = GaussianNB()\n",
    "gnb.fit(W_train_svd,Y_train)"
   ]
  },
  {
   "cell_type": "code",
   "execution_count": null,
   "metadata": {
    "id": "88e6u8-sXQyH"
   },
   "outputs": [],
   "source": [
    "predicted_gnb = gnb.predict(W_test_svd)"
   ]
  },
  {
   "cell_type": "code",
   "execution_count": null,
   "metadata": {
    "colab": {
     "base_uri": "https://localhost:8080/"
    },
    "id": "YC9qcFUOXcTK",
    "outputId": "814bbb63-9426-425a-8d44-15d06c7c1433"
   },
   "outputs": [
    {
     "name": "stdout",
     "output_type": "stream",
     "text": [
      "accuracy =  0.8843373493975903  precision =  0.8259109311740891  recall =  0.9760765550239234\n"
     ]
    }
   ],
   "source": [
    "print(\"accuracy = \",accuracy_score(Y_test, predicted_gnb),\" precision = \",precision_score(Y_test, predicted_gnb), \" recall = \",recall_score(Y_test, predicted_gnb))"
   ]
  },
  {
   "cell_type": "code",
   "execution_count": null,
   "metadata": {
    "colab": {
     "base_uri": "https://localhost:8080/",
     "height": 289
    },
    "id": "pRZAcTimXy5U",
    "outputId": "ed61f1d4-a91d-4f94-b5e0-63f1d5d9ae30"
   },
   "outputs": [
    {
     "data": {
      "image/png": "[encoded data removed]",
      "text/plain": [
       "<Figure size 432x288 with 1 Axes>"
      ]
     },
     "metadata": {
      "needs_background": "light"
     },
     "output_type": "display_data"
    }
   ],
   "source": [
    "fpr, tpr, _ = roc_curve(Y_test, predicted_gnb)\n",
    "plot_roc(fpr, tpr)"
   ]
  },
  {
   "cell_type": "markdown",
   "metadata": {
    "id": "IIvTJxG6O-38"
   },
   "source": [
    "#Grid Search of Parameter"
   ]
  },
  {
   "cell_type": "code",
   "execution_count": null,
   "metadata": {
    "id": "VLxpy8VQ3TQg"
   },
   "outputs": [],
   "source": [
    "import itertools\n",
    "def make_param_grids(steps, param_grids):\n",
    "\n",
    "    final_params=[]\n",
    "\n",
    "    # Itertools.product will do a permutation such that \n",
    "    # (pca OR svd) AND (svm OR rf) will become ->\n",
    "    # (pca, svm) , (pca, rf) , (svd, svm) , (svd, rf)\n",
    "    for estimator_names in itertools.product(*steps.values()):\n",
    "        current_grid = {}\n",
    "\n",
    "        # Step_name and estimator_name should correspond\n",
    "        # i.e preprocessor must be from pca and select.\n",
    "        for step_name, estimator_name in zip(steps.keys(), estimator_names):\n",
    "            for param, value in param_grids.get(estimator_name).items():\n",
    "                if param == 'object':\n",
    "                    # Set actual estimator in pipeline\n",
    "                    current_grid[step_name]=[value]\n",
    "                else:\n",
    "                    # Set parameters corresponding to above estimator\n",
    "                    current_grid[step_name+'__'+param]=value\n",
    "        #Append this dictionary to final params            \n",
    "        final_params.append(current_grid)\n",
    "\n",
    "    return final_params"
   ]
  },
  {
   "cell_type": "code",
   "execution_count": null,
   "metadata": {
    "id": "8gwJr4nbX3tk"
   },
   "outputs": [],
   "source": [
    "from tempfile import mkdtemp\n",
    "from shutil import rmtree\n",
    "from sklearn.decomposition import TruncatedSVD\n",
    "from sklearn.linear_model import LogisticRegression\n",
    "from sklearn.pipeline import Pipeline\n",
    "from sklearn.model_selection import GridSearchCV\n",
    "from sklearn.preprocessing import StandardScaler \n",
    "from sklearn.feature_extraction.text import CountVectorizer\n",
    "from sklearn.feature_extraction.text import TfidfTransformer\n",
    "import nltk\n",
    "from sklearn.svm import LinearSVC\n",
    "from sklearn import datasets\n",
    "import numpy as np\n",
    "import matplotlib.pyplot as plt\n",
    "from sklearn.linear_model import LogisticRegression\n",
    "from sklearn.naive_bayes import GaussianNB\n",
    "from sklearn.decomposition import NMF\n",
    "from nltk import pos_tag\n",
    "\n",
    "cachedir = mkdtemp()\n",
    "X_train_ip = train.full_text\n",
    "Y_train_ip = Y_train\n",
    "count_vectorizer = CountVectorizer(min_df=3, stop_words='english', analyzer=stem_rmv_punc)\n",
    "count_vect = CountVectorizer(min_df=3,analyzer=stem_rmv_punc)\n",
    "tfidf_transformer = TfidfTransformer()\n",
    "nmf = NMF(n_components=50, init='random', random_state=42)\n",
    "svd = TruncatedSVD(n_components=10, n_iter=7, random_state=42)\n",
    "\n",
    "#model\n",
    "hard_svm_kfld = LinearSVC(C=10000,max_iter=12000000)\n",
    "logregl2 = LogisticRegression(penalty='l2',random_state=42,C=100)\n",
    "logregl1 = LogisticRegression(penalty='l1',random_state=42,C=10, solver='liblinear')\n",
    "gnb = GaussianNB()\n",
    "# nmf = NMF(n_components=50, init='random', random_state=0)\n",
    "# pipeline_steps = {'vect': ['count_vectorizer'],\n",
    "#     'tfidf': ['tfidf_transformer'],\n",
    "#     'preprocessor':['nmf', 'svd'],\n",
    "#     'classifier':['hard_svm_kfld', 'logregl2_best','logregl1','gnb']}\n",
    "# all_param_grids = {\n",
    "#                    'hard_svm_kfld':{'object':hard_svm_kfld \n",
    "#                          }, \n",
    "#                    'logregl2_best':{'object':logregl2_best\n",
    "#                         },\n",
    "#                    'logregl1_best':{'object':logregl1_best\n",
    "#                         },\n",
    "#                    'gnb':{'object':gnb\n",
    "#                         },\n",
    "#                    'count_vectorizer':{'object':count_vectorizer,\n",
    "#                          'min_df':[3,5],\n",
    "#                          'analyzer':['stem_rmv_punc','stemmed_words','no_stem']\n",
    "#                         },\n",
    "#                    'tfidf_transformer':{'object':tfidf_transformer\n",
    "#                         },\n",
    "#                    'nmf':{'object':nmf,\n",
    "#                           'n_components':[5,50,500]\n",
    "#                          },\n",
    "                   \n",
    "#                    'svd':{'object':svd,\n",
    "#                           'n_components':[5,50,500]\n",
    "#                          }\n",
    "#                   }\n",
    "pipe = Pipeline(steps=[('vect', count_vectorizer),('tfidf', tfidf_transformer),('preprocessor', svd), ('classifier', hard_svm_kfld)])\n",
    "params_grid = {\n",
    "'vect__min_df': [3,5],\n",
    "'vect__analyzer': [stem_rmv_punc,stemmed_words,no_stem],\n",
    "# 'vect__analyzer': [stem_rmv_punc],\n",
    "'preprocessor':[nmf, svd],\n",
    "# 'preprocessor':[nmf],\n",
    "'preprocessor__n_components': [5,50,500],\n",
    "# 'preprocessor__n_components': [5],\n",
    "'classifier':[hard_svm_kfld, svd,logregl2,logregl1,gnb],\n",
    "# 'classifier':[hard_svm_kfld],\n",
    "}"
   ]
  },
  {
   "cell_type": "code",
   "execution_count": null,
   "metadata": {
    "id": "9KZCf-_P3fBx"
   },
   "outputs": [],
   "source": [
    "grd = GridSearchCV(pipe, params_grid, n_jobs=-1, cv=5)"
   ]
  },
  {
   "cell_type": "code",
   "execution_count": null,
   "metadata": {
    "colab": {
     "base_uri": "https://localhost:8080/"
    },
    "id": "DE9lzgQBstju",
    "outputId": "3b05b069-f3af-49bc-bbce-e6d401cd606b"
   },
   "outputs": [
    {
     "name": "stderr",
     "output_type": "stream",
     "text": [
      "/usr/local/lib/python3.7/dist-packages/sklearn/model_selection/_validation.py:372: FitFailedWarning: \n",
      "60 fits failed out of a total of 900.\n",
      "The score on these train-test partitions for these parameters will be set to nan.\n",
      "If these failures are not expected, you can try to debug them by setting error_score='raise'.\n",
      "\n",
      "Below are more details about the failures:\n",
      "--------------------------------------------------------------------------------\n",
      "60 fits failed with the following error:\n",
      "Traceback (most recent call last):\n",
      "  File \"/usr/local/lib/python3.7/dist-packages/sklearn/model_selection/_validation.py\", line 680, in _fit_and_score\n",
      "    estimator.fit(X_train, y_train, **fit_params)\n",
      "  File \"/usr/local/lib/python3.7/dist-packages/sklearn/pipeline.py\", line 394, in fit\n",
      "    self._final_estimator.fit(Xt, y, **fit_params_last_step)\n",
      "  File \"/usr/local/lib/python3.7/dist-packages/sklearn/decomposition/_truncated_svd.py\", line 173, in fit\n",
      "    self.fit_transform(X)\n",
      "  File \"/usr/local/lib/python3.7/dist-packages/sklearn/decomposition/_truncated_svd.py\", line 208, in fit_transform\n",
      "    \"n_components must be < n_features; got %d >= %d\" % (k, n_features)\n",
      "ValueError: n_components must be < n_features; got 10 >= 5\n",
      "\n",
      "  warnings.warn(some_fits_failed_message, FitFailedWarning)\n",
      "/usr/local/lib/python3.7/dist-packages/sklearn/model_selection/_search.py:972: UserWarning: One or more of the test scores are non-finite: [0.91913333 0.91671095 0.92093328 0.92033087 0.92335202 0.92395625\n",
      " 0.95835548 0.95473556 0.96016271 0.96136206 0.95895607 0.96016089\n",
      " 0.95955302 0.9583482  0.96377898 0.95895061 0.9613657  0.95654279\n",
      " 0.92154297 0.92093874 0.92335202 0.9233502  0.92455684 0.92334838\n",
      " 0.94930295 0.94809267 0.9535271  0.94869508 0.94930295 0.95352346\n",
      " 0.96558621 0.96256506 0.96679467 0.96679103 0.96800131 0.96619044\n",
      "        nan        nan        nan        nan        nan        nan\n",
      "        nan        nan        nan        nan        nan        nan\n",
      "        nan        nan        nan        nan        nan        nan\n",
      "        nan        nan        nan        nan        nan        nan\n",
      "        nan        nan        nan        nan        nan        nan\n",
      "        nan        nan        nan        nan        nan        nan\n",
      " 0.92456776 0.92395807 0.92878462 0.92395261 0.92515561 0.91429949\n",
      " 0.95594402 0.95715248 0.95836458 0.95654643 0.9571452  0.95774761\n",
      " 0.96557893 0.96196447 0.96739526 0.96619408 0.9625687  0.96679103\n",
      " 0.9209351  0.92093874 0.92455502 0.92335202 0.92516653 0.9221472\n",
      " 0.95654279 0.95594038 0.95232046 0.95231864 0.95533615 0.95533615\n",
      " 0.96739344 0.96498562 0.97101518 0.96860372 0.97102064 0.97162305\n",
      " 0.92335566 0.92033269 0.92153751 0.92153933 0.92757253 0.92636953\n",
      " 0.95715066 0.95533979 0.96076875 0.95715066 0.96016453 0.95774579\n",
      " 0.96196811 0.95472646 0.96318385 0.96317657 0.9559331  0.96317293\n",
      " 0.92033269 0.92093874 0.92395261 0.92274779 0.92456048 0.92335202\n",
      " 0.95654461 0.95412769 0.95714702 0.95472828 0.9547392  0.95593674\n",
      " 0.96619408 0.96438139 0.97101336 0.96800677 0.97102246 0.96861828\n",
      " 0.91369708 0.91611218 0.90767117 0.9094602  0.90885961 0.90765479\n",
      " 0.9649929  0.96318567 0.96559895 0.9625778  0.9571452  0.9625778\n",
      " 0.95894515 0.95593492 0.96618862 0.96196811 0.9661868  0.96558439\n",
      " 0.87142649 0.86780657 0.85091362 0.85574564 0.87446038 0.88714192\n",
      " 0.93723474 0.93662869 0.93240454 0.9324009  0.91612128 0.92274779\n",
      " 0.87988935 0.88470316 0.87264587 0.87385433 0.86603028 0.89256725]\n",
      "  category=UserWarning,\n"
     ]
    },
    {
     "data": {
      "text/plain": [
       "GridSearchCV(cv=5,\n",
       "             estimator=Pipeline(steps=[('vect',\n",
       "                                        CountVectorizer(analyzer=<function stem_rmv_punc at 0x7f45bf649200>,\n",
       "                                                        min_df=3,\n",
       "                                                        stop_words='english')),\n",
       "                                       ('tfidf', TfidfTransformer()),\n",
       "                                       ('preprocessor',\n",
       "                                        TruncatedSVD(n_components=500, n_iter=7,\n",
       "                                                     random_state=42)),\n",
       "                                       ('classifier',\n",
       "                                        LinearSVC(C=10000,\n",
       "                                                  max_iter=12000000))]),\n",
       "             n_jobs=-1,\n",
       "             param_grid={'classifier': [LinearSVC...\n",
       "                                                           solver='liblinear'),\n",
       "                                        GaussianNB()],\n",
       "                         'preprocessor': [NMF(init='random', n_components=50,\n",
       "                                              random_state=42),\n",
       "                                          TruncatedSVD(n_components=500,\n",
       "                                                       n_iter=7,\n",
       "                                                       random_state=42)],\n",
       "                         'preprocessor__n_components': [5, 50, 500],\n",
       "                         'vect__analyzer': [<function stem_rmv_punc at 0x7f45bf649200>,\n",
       "                                            <function stemmed_words at 0x7f45bf649680>,\n",
       "                                            <function no_stem at 0x7f45bf6495f0>],\n",
       "                         'vect__min_df': [3, 5]})"
      ]
     },
     "execution_count": 21,
     "metadata": {},
     "output_type": "execute_result"
    }
   ],
   "source": [
    "grd.fit(X_train_ip, Y_train_ip)"
   ]
  },
  {
   "cell_type": "code",
   "execution_count": null,
   "metadata": {
    "colab": {
     "base_uri": "https://localhost:8080/"
    },
    "id": "fYV-FH3z3glF",
    "outputId": "e2f08a17-8fed-407c-f351-3ea67acee791"
   },
   "outputs": [
    {
     "data": {
      "text/plain": [
       "GridSearchCV(cv=5,\n",
       "             estimator=Pipeline(steps=[('vect',\n",
       "                                        CountVectorizer(analyzer=<function stem_rmv_punc at 0x7f609d772b00>,\n",
       "                                                        min_df=3,\n",
       "                                                        stop_words='english')),\n",
       "                                       ('tfidf', TfidfTransformer()),\n",
       "                                       ('preprocessor',\n",
       "                                        TruncatedSVD(n_components=5, n_iter=7,\n",
       "                                                     random_state=42)),\n",
       "                                       ('classifier',\n",
       "                                        LinearSVC(C=10000,\n",
       "                                                  max_iter=12000000))]),\n",
       "             n_jobs=-1,\n",
       "             param_grid={'classifier': [LinearSVC(C=10000, max_iter=12000000)],\n",
       "                         'preprocessor': [NMF(init='random', n_components=50,\n",
       "                                              random_state=42),\n",
       "                                          TruncatedSVD(n_components=5, n_iter=7,\n",
       "                                                       random_state=42)],\n",
       "                         'preprocessor__n_components': [5],\n",
       "                         'vect__analyzer': [<function stem_rmv_punc at 0x7f609d772b00>,\n",
       "                                            <function stemmed_words at 0x7f609d7725f0>,\n",
       "                                            <function no_stem at 0x7f609d966680>],\n",
       "                         'vect__min_df': [3, 5]})"
      ]
     },
     "execution_count": 36,
     "metadata": {},
     "output_type": "execute_result"
    }
   ],
   "source": [
    "grd.fit(X_train_ip, Y_train_ip)"
   ]
  },
  {
   "cell_type": "code",
   "execution_count": null,
   "metadata": {
    "colab": {
     "base_uri": "https://localhost:8080/"
    },
    "id": "JDMnPl3n7Uzp",
    "outputId": "c69a5cf3-d677-4557-d74b-ae346c67a633"
   },
   "outputs": [
    {
     "name": "stdout",
     "output_type": "stream",
     "text": [
      "Best parameter (CV score=0.925):\n",
      "{'classifier': LinearSVC(C=10000, max_iter=12000000), 'preprocessor': TruncatedSVD(n_components=5, n_iter=7, random_state=42), 'preprocessor__n_components': 5, 'vect__analyzer': <function no_stem at 0x7f609d966680>, 'vect__min_df': 3}\n"
     ]
    }
   ],
   "source": [
    "    print(\"Best parameter (CV score=%0.3f):\" % grd.best_score_) \n",
    "    # built-in functions exist for this\n",
    "    # RandomizedSearchCV that you can use as an alternate, but you may not score full points on the search.\n",
    "    \n",
    "    print(grd.best_params_)"
   ]
  },
  {
   "cell_type": "code",
   "execution_count": null,
   "metadata": {
    "colab": {
     "base_uri": "https://localhost:8080/"
    },
    "id": "NIgdnIZZsO8n",
    "outputId": "707943e5-e711-4df4-b7f7-d390b17282c6"
   },
   "outputs": [
    {
     "name": "stdout",
     "output_type": "stream",
     "text": [
      "Best parameter (CV score=0.972):\n",
      "{'classifier': LogisticRegression(C=100, random_state=42), 'preprocessor': TruncatedSVD(n_components=500, n_iter=7, random_state=42), 'preprocessor__n_components': 500, 'vect__analyzer': <function no_stem at 0x7f45bf6495f0>, 'vect__min_df': 5}\n"
     ]
    }
   ],
   "source": [
    "    print(\"Best parameter (CV score=%0.3f):\" % grd.best_score_) \n",
    "    # built-in functions exist for this\n",
    "    # RandomizedSearchCV that you can use as an alternate, but you may not score full points on the search.\n",
    "    \n",
    "    print(grd.best_params_)"
   ]
  },
  {
   "cell_type": "code",
   "execution_count": null,
   "metadata": {
    "id": "48wKG7dXt5oc"
   },
   "outputs": [],
   "source": []
  }
 ],
 "metadata": {
  "colab": {
   "machine_shape": "hm",
   "provenance": []
  },
  "kernelspec": {
   "display_name": "Python 3",
   "language": "python",
   "name": "python3"
  },
  "language_info": {
   "codemirror_mode": {
    "name": "ipython",
    "version": 3
   },
   "file_extension": ".py",
   "mimetype": "text/x-python",
   "name": "python",
   "nbconvert_exporter": "python",
   "pygments_lexer": "ipython3",
   "version": "3.8.8"
  }
 },
 "nbformat": 4,
 "nbformat_minor": 1
}
